{
 "cells": [
  {
   "cell_type": "markdown",
   "metadata": {},
   "source": [
    "# COMP47670 Assignment 2\n",
    "## Kate Kiernan\n",
    "#### 14324876"
   ]
  },
  {
   "cell_type": "markdown",
   "metadata": {},
   "source": [
    " "
   ]
  },
  {
   "cell_type": "markdown",
   "metadata": {},
   "source": [
    "### 1. Select three review categories of your choice. Scrape all reviews for each category and store them as three separate datasets. For each review, you should store the review text and a class label (i.e. whether the review is “positive” or “negative”)."
   ]
  },
  {
   "cell_type": "code",
   "execution_count": 1,
   "metadata": {},
   "outputs": [],
   "source": [
    "import requests\n",
    "import urllib.request\n",
    "from bs4 import BeautifulSoup\n",
    "import pandas as pd\n",
    "import nltk\n",
    "from nltk.stem import PorterStemmer\n",
    "from nltk.corpus import stopwords\n",
    "from sklearn.feature_extraction.text import TfidfVectorizer\n",
    "from sklearn.model_selection import train_test_split\n",
    "from sklearn.naive_bayes import MultinomialNB\n",
    "from sklearn.model_selection import cross_val_score"
   ]
  },
  {
   "cell_type": "markdown",
   "metadata": {},
   "source": [
    "The categories I have chosen are Cafes; Hair and Salons; and Restaurants. The first step is to go through each of the categories and get the URL for the individual businesses in each. "
   ]
  },
  {
   "cell_type": "code",
   "execution_count": 2,
   "metadata": {},
   "outputs": [],
   "source": [
    "#Create the variables cafes, salons, and restaurants as the links to the list of businesses in each category\n",
    "cafes = \"http://mlg.ucd.ie/modules/yalp/cafes_list.html\"\n",
    "cafe_res = requests.get(cafes)\n",
    "cafe_page = str(BeautifulSoup(cafe_res.content))\n",
    "\n",
    "salons = \"http://mlg.ucd.ie/modules/yalp/hair_salons_list.html\"\n",
    "salon_res = requests.get(salons)\n",
    "salon_page = str(BeautifulSoup(salon_res.content))\n",
    "\n",
    "restaurants = \"http://mlg.ucd.ie/modules/yalp/restaurants_list.html\"\n",
    "restaurant_res = requests.get(restaurants)\n",
    "restaurant_page = str(BeautifulSoup(restaurant_res.content))"
   ]
  },
  {
   "cell_type": "code",
   "execution_count": 3,
   "metadata": {},
   "outputs": [],
   "source": [
    "#This function looks parses the html code to find the individual link for each business\n",
    "def getURL(page):\n",
    "    start_link = page.find(\"a href\")\n",
    "    start_quote = page.find('\"', start_link)\n",
    "    end_quote = page.find('\"', start_quote + 1)\n",
    "    url = page[start_quote + 1: end_quote]\n",
    "    return url, end_quote"
   ]
  },
  {
   "cell_type": "code",
   "execution_count": 4,
   "metadata": {},
   "outputs": [],
   "source": [
    "#Create empty lists to fill with all the business URLs\n",
    "cafe_url = []\n",
    "salon_url = []\n",
    "restaurant_url = []"
   ]
  },
  {
   "cell_type": "markdown",
   "metadata": {},
   "source": [
    "Within a for loop, parse the html and create a list of URLs for each category."
   ]
  },
  {
   "cell_type": "code",
   "execution_count": 5,
   "metadata": {},
   "outputs": [],
   "source": [
    "#Cafes\n",
    "for i in range(len(cafe_page)):\n",
    "    url, n = getURL(cafe_page)\n",
    "    cafe_page = cafe_page[n:]\n",
    "    if url:\n",
    "        cafe_url.append(url) #Add to list\n",
    "    else:\n",
    "        break\n",
    "\n",
    "for i in range(len(cafe_url)):\n",
    "    cafe_url[i] = 'http://mlg.ucd.ie/modules/yalp/' + cafe_url[i]"
   ]
  },
  {
   "cell_type": "code",
   "execution_count": 6,
   "metadata": {},
   "outputs": [],
   "source": [
    "#Repeat for salons\n",
    "for i in range(len(salon_page)):\n",
    "    url, n = getURL(salon_page)\n",
    "    salon_page = salon_page[n:]\n",
    "    if url:\n",
    "        salon_url.append(url)\n",
    "    else:\n",
    "        break\n",
    "\n",
    "for i in range(len(salon_url)):\n",
    "    salon_url[i] = 'http://mlg.ucd.ie/modules/yalp/' + salon_url[i]"
   ]
  },
  {
   "cell_type": "code",
   "execution_count": 7,
   "metadata": {},
   "outputs": [],
   "source": [
    "#Repeat for restaurants\n",
    "for i in range(len(restaurant_page)):\n",
    "    url, n = getURL(restaurant_page)\n",
    "    restaurant_page = restaurant_page[n:]\n",
    "    if url:\n",
    "        restaurant_url.append(url)\n",
    "    else:\n",
    "        break\n",
    "\n",
    "for i in range(len(restaurant_url)):\n",
    "    restaurant_url[i] = 'http://mlg.ucd.ie/modules/yalp/' + restaurant_url[i]"
   ]
  },
  {
   "cell_type": "markdown",
   "metadata": {},
   "source": [
    "The next step is to extract the ratings and review text from each review. The function getReviews will parse the html for each business and store all of the ratings and reviews in a dataframe. For reviews with 3 stars or less, it will store the rating as 'Negative'. For reviews with 4 or 5 stars, it will store the review as 'Postive'."
   ]
  },
  {
   "cell_type": "code",
   "execution_count": 8,
   "metadata": {},
   "outputs": [],
   "source": [
    "def getReviews(url):\n",
    "    ratings = []\n",
    "    reviews = []\n",
    "    cafe = []\n",
    "    \n",
    "    res = urllib.request.urlopen(url)\n",
    "    html = res.read().decode()\n",
    "    \n",
    "    parser = BeautifulSoup(html, 'html.parser')\n",
    "    \n",
    "    #Select the review rating\n",
    "    for rating in parser.find_all(class_ = \"rating\"):\n",
    "        rate = int(rating.find('img').get('alt').split('-')[0])\n",
    "        \n",
    "        #Determine if review is positive or negative\n",
    "        if rate > 3:\n",
    "            rate = 'Positive'\n",
    "        else:\n",
    "            rate = 'Negative'\n",
    "          \n",
    "        ratings.append(rate)\n",
    "    \n",
    "    #Select the review text and save it\n",
    "    for review in parser.find_all(class_ = \"review-text\"):\n",
    "        text = review.get('')\n",
    "        reviews.append(review.contents[0])\n",
    "        \n",
    "    return(pd.DataFrame({'Rating':ratings, 'Review':reviews}))"
   ]
  },
  {
   "cell_type": "code",
   "execution_count": 9,
   "metadata": {},
   "outputs": [],
   "source": [
    "#Create empty dataframes for the three categories\n",
    "cafe_df = pd.DataFrame()\n",
    "salon_df = pd.DataFrame()\n",
    "restaurant_df = pd.DataFrame()"
   ]
  },
  {
   "cell_type": "code",
   "execution_count": 10,
   "metadata": {
    "scrolled": true
   },
   "outputs": [],
   "source": [
    "#Create the dataframe of cafe reviews\n",
    "for url in cafe_url:\n",
    "    getReviews(url)\n",
    "    \n",
    "    cafe_df = cafe_df.append(getReviews(url))\n",
    "    \n",
    "#Save the dataframe to a csv file\n",
    "cafe_df.to_csv(r'C:\\Users\\kateh\\Documents\\DS\\Cafe.csv')"
   ]
  },
  {
   "cell_type": "code",
   "execution_count": 11,
   "metadata": {},
   "outputs": [],
   "source": [
    "#Repeat for salons\n",
    "for url in salon_url:\n",
    "    getReviews(url)\n",
    "    \n",
    "    salon_df = salon_df.append(getReviews(url))\n",
    "    \n",
    "salon_df.to_csv(r'C:\\Users\\kateh\\Documents\\DS\\Hair.csv')"
   ]
  },
  {
   "cell_type": "code",
   "execution_count": 12,
   "metadata": {},
   "outputs": [],
   "source": [
    "#Repeat for restaurants\n",
    "for url in restaurant_url:\n",
    "    getReviews(url)\n",
    "    \n",
    "    restaurant_df = restaurant_df.append(getReviews(url))\n",
    "    \n",
    "restaurant_df.to_csv(r'C:\\Users\\kateh\\Documents\\DS\\Food.csv')"
   ]
  },
  {
   "cell_type": "markdown",
   "metadata": {},
   "source": [
    "View the first few elements of each data frame."
   ]
  },
  {
   "cell_type": "code",
   "execution_count": 13,
   "metadata": {},
   "outputs": [
    {
     "data": {
      "text/html": [
       "<div>\n",
       "<style scoped>\n",
       "    .dataframe tbody tr th:only-of-type {\n",
       "        vertical-align: middle;\n",
       "    }\n",
       "\n",
       "    .dataframe tbody tr th {\n",
       "        vertical-align: top;\n",
       "    }\n",
       "\n",
       "    .dataframe thead th {\n",
       "        text-align: right;\n",
       "    }\n",
       "</style>\n",
       "<table border=\"1\" class=\"dataframe\">\n",
       "  <thead>\n",
       "    <tr style=\"text-align: right;\">\n",
       "      <th></th>\n",
       "      <th>Rating</th>\n",
       "      <th>Review</th>\n",
       "    </tr>\n",
       "  </thead>\n",
       "  <tbody>\n",
       "    <tr>\n",
       "      <th>0</th>\n",
       "      <td>Positive</td>\n",
       "      <td>Pros: Lots of items you would not expect from ...</td>\n",
       "    </tr>\n",
       "    <tr>\n",
       "      <th>1</th>\n",
       "      <td>Positive</td>\n",
       "      <td>Best egg-tarts in town! There's really not muc...</td>\n",
       "    </tr>\n",
       "    <tr>\n",
       "      <th>2</th>\n",
       "      <td>Negative</td>\n",
       "      <td>I've been to ABC Bakery a few times since I re...</td>\n",
       "    </tr>\n",
       "    <tr>\n",
       "      <th>3</th>\n",
       "      <td>Negative</td>\n",
       "      <td>FYI, Closed Monday's New ownership for about 1...</td>\n",
       "    </tr>\n",
       "    <tr>\n",
       "      <th>4</th>\n",
       "      <td>Positive</td>\n",
       "      <td>The inside may not look like much but they mak...</td>\n",
       "    </tr>\n",
       "  </tbody>\n",
       "</table>\n",
       "</div>"
      ],
      "text/plain": [
       "     Rating                                             Review\n",
       "0  Positive  Pros: Lots of items you would not expect from ...\n",
       "1  Positive  Best egg-tarts in town! There's really not muc...\n",
       "2  Negative  I've been to ABC Bakery a few times since I re...\n",
       "3  Negative  FYI, Closed Monday's New ownership for about 1...\n",
       "4  Positive  The inside may not look like much but they mak..."
      ]
     },
     "execution_count": 13,
     "metadata": {},
     "output_type": "execute_result"
    }
   ],
   "source": [
    "cafe_df.head()"
   ]
  },
  {
   "cell_type": "code",
   "execution_count": 14,
   "metadata": {},
   "outputs": [
    {
     "data": {
      "text/html": [
       "<div>\n",
       "<style scoped>\n",
       "    .dataframe tbody tr th:only-of-type {\n",
       "        vertical-align: middle;\n",
       "    }\n",
       "\n",
       "    .dataframe tbody tr th {\n",
       "        vertical-align: top;\n",
       "    }\n",
       "\n",
       "    .dataframe thead th {\n",
       "        text-align: right;\n",
       "    }\n",
       "</style>\n",
       "<table border=\"1\" class=\"dataframe\">\n",
       "  <thead>\n",
       "    <tr style=\"text-align: right;\">\n",
       "      <th></th>\n",
       "      <th>Rating</th>\n",
       "      <th>Review</th>\n",
       "    </tr>\n",
       "  </thead>\n",
       "  <tbody>\n",
       "    <tr>\n",
       "      <th>0</th>\n",
       "      <td>Positive</td>\n",
       "      <td>One of the best barbershops I've been to, with...</td>\n",
       "    </tr>\n",
       "    <tr>\n",
       "      <th>1</th>\n",
       "      <td>Positive</td>\n",
       "      <td>Took my son in for a haircut. Barber was great...</td>\n",
       "    </tr>\n",
       "    <tr>\n",
       "      <th>2</th>\n",
       "      <td>Negative</td>\n",
       "      <td>Walked in, said hi. The only barber in there d...</td>\n",
       "    </tr>\n",
       "    <tr>\n",
       "      <th>3</th>\n",
       "      <td>Negative</td>\n",
       "      <td>I came here 10 minutes before 9am to get a hai...</td>\n",
       "    </tr>\n",
       "    <tr>\n",
       "      <th>4</th>\n",
       "      <td>Positive</td>\n",
       "      <td>Great haircut. No fuss no muss, I asked for la...</td>\n",
       "    </tr>\n",
       "  </tbody>\n",
       "</table>\n",
       "</div>"
      ],
      "text/plain": [
       "     Rating                                             Review\n",
       "0  Positive  One of the best barbershops I've been to, with...\n",
       "1  Positive  Took my son in for a haircut. Barber was great...\n",
       "2  Negative  Walked in, said hi. The only barber in there d...\n",
       "3  Negative  I came here 10 minutes before 9am to get a hai...\n",
       "4  Positive  Great haircut. No fuss no muss, I asked for la..."
      ]
     },
     "execution_count": 14,
     "metadata": {},
     "output_type": "execute_result"
    }
   ],
   "source": [
    "salon_df.head()"
   ]
  },
  {
   "cell_type": "code",
   "execution_count": 15,
   "metadata": {},
   "outputs": [
    {
     "data": {
      "text/html": [
       "<div>\n",
       "<style scoped>\n",
       "    .dataframe tbody tr th:only-of-type {\n",
       "        vertical-align: middle;\n",
       "    }\n",
       "\n",
       "    .dataframe tbody tr th {\n",
       "        vertical-align: top;\n",
       "    }\n",
       "\n",
       "    .dataframe thead th {\n",
       "        text-align: right;\n",
       "    }\n",
       "</style>\n",
       "<table border=\"1\" class=\"dataframe\">\n",
       "  <thead>\n",
       "    <tr style=\"text-align: right;\">\n",
       "      <th></th>\n",
       "      <th>Rating</th>\n",
       "      <th>Review</th>\n",
       "    </tr>\n",
       "  </thead>\n",
       "  <tbody>\n",
       "    <tr>\n",
       "      <th>0</th>\n",
       "      <td>Negative</td>\n",
       "      <td>My husband and I had a rare afternoon off so w...</td>\n",
       "    </tr>\n",
       "    <tr>\n",
       "      <th>1</th>\n",
       "      <td>Positive</td>\n",
       "      <td>For years I thought this was only a wine store...</td>\n",
       "    </tr>\n",
       "    <tr>\n",
       "      <th>2</th>\n",
       "      <td>Positive</td>\n",
       "      <td>This place is so charming! I went with my husb...</td>\n",
       "    </tr>\n",
       "    <tr>\n",
       "      <th>3</th>\n",
       "      <td>Positive</td>\n",
       "      <td>We have been wanting to try this place for a c...</td>\n",
       "    </tr>\n",
       "    <tr>\n",
       "      <th>4</th>\n",
       "      <td>Negative</td>\n",
       "      <td>Decor looks ok but layout is too busy. Difficu...</td>\n",
       "    </tr>\n",
       "  </tbody>\n",
       "</table>\n",
       "</div>"
      ],
      "text/plain": [
       "     Rating                                             Review\n",
       "0  Negative  My husband and I had a rare afternoon off so w...\n",
       "1  Positive  For years I thought this was only a wine store...\n",
       "2  Positive  This place is so charming! I went with my husb...\n",
       "3  Positive  We have been wanting to try this place for a c...\n",
       "4  Negative  Decor looks ok but layout is too busy. Difficu..."
      ]
     },
     "execution_count": 15,
     "metadata": {},
     "output_type": "execute_result"
    }
   ],
   "source": [
    "restaurant_df.head()"
   ]
  },
  {
   "cell_type": "markdown",
   "metadata": {},
   "source": [
    "Check the dimensions of the three data frames."
   ]
  },
  {
   "cell_type": "code",
   "execution_count": 16,
   "metadata": {},
   "outputs": [
    {
     "data": {
      "text/plain": [
       "(2000, 2)"
      ]
     },
     "execution_count": 16,
     "metadata": {},
     "output_type": "execute_result"
    }
   ],
   "source": [
    "cafe_df.shape"
   ]
  },
  {
   "cell_type": "code",
   "execution_count": 17,
   "metadata": {},
   "outputs": [
    {
     "data": {
      "text/plain": [
       "(2000, 2)"
      ]
     },
     "execution_count": 17,
     "metadata": {},
     "output_type": "execute_result"
    }
   ],
   "source": [
    "salon_df.shape"
   ]
  },
  {
   "cell_type": "code",
   "execution_count": 18,
   "metadata": {},
   "outputs": [
    {
     "data": {
      "text/plain": [
       "(2000, 2)"
      ]
     },
     "execution_count": 18,
     "metadata": {},
     "output_type": "execute_result"
    }
   ],
   "source": [
    "restaurant_df.shape"
   ]
  },
  {
   "cell_type": "markdown",
   "metadata": {},
   "source": [
    "Check if there is any missing data in the three data frames."
   ]
  },
  {
   "cell_type": "code",
   "execution_count": 19,
   "metadata": {},
   "outputs": [
    {
     "data": {
      "text/plain": [
       "Rating    0\n",
       "Review    0\n",
       "dtype: int64"
      ]
     },
     "execution_count": 19,
     "metadata": {},
     "output_type": "execute_result"
    }
   ],
   "source": [
    "cafe_df.isnull().sum()"
   ]
  },
  {
   "cell_type": "code",
   "execution_count": 20,
   "metadata": {},
   "outputs": [
    {
     "data": {
      "text/plain": [
       "Rating    0\n",
       "Review    0\n",
       "dtype: int64"
      ]
     },
     "execution_count": 20,
     "metadata": {},
     "output_type": "execute_result"
    }
   ],
   "source": [
    "salon_df.isnull().sum()"
   ]
  },
  {
   "cell_type": "code",
   "execution_count": 21,
   "metadata": {},
   "outputs": [
    {
     "data": {
      "text/plain": [
       "Rating    0\n",
       "Review    0\n",
       "dtype: int64"
      ]
     },
     "execution_count": 21,
     "metadata": {},
     "output_type": "execute_result"
    }
   ],
   "source": [
    "restaurant_df.isnull().sum()"
   ]
  },
  {
   "cell_type": "markdown",
   "metadata": {},
   "source": [
    "Count the number of positive and negative reviews for each category."
   ]
  },
  {
   "cell_type": "code",
   "execution_count": 22,
   "metadata": {},
   "outputs": [
    {
     "data": {
      "text/plain": [
       "Rating\n",
       "Negative     538\n",
       "Positive    1462\n",
       "Name: Rating, dtype: int64"
      ]
     },
     "execution_count": 22,
     "metadata": {},
     "output_type": "execute_result"
    }
   ],
   "source": [
    "cafe_df.groupby('Rating')['Rating'].count()"
   ]
  },
  {
   "cell_type": "code",
   "execution_count": 23,
   "metadata": {},
   "outputs": [
    {
     "data": {
      "text/plain": [
       "Rating\n",
       "Negative     442\n",
       "Positive    1558\n",
       "Name: Rating, dtype: int64"
      ]
     },
     "execution_count": 23,
     "metadata": {},
     "output_type": "execute_result"
    }
   ],
   "source": [
    "salon_df.groupby('Rating')['Rating'].count()"
   ]
  },
  {
   "cell_type": "code",
   "execution_count": 24,
   "metadata": {},
   "outputs": [
    {
     "data": {
      "text/plain": [
       "Rating\n",
       "Negative     838\n",
       "Positive    1162\n",
       "Name: Rating, dtype: int64"
      ]
     },
     "execution_count": 24,
     "metadata": {},
     "output_type": "execute_result"
    }
   ],
   "source": [
    "restaurant_df.groupby('Rating')['Rating'].count()"
   ]
  },
  {
   "cell_type": "markdown",
   "metadata": {},
   "source": [
    "## 2. (a) From the reviews in this category, apply appropriate preprocessing steps to create a numeric representation of the data, suitable for classification."
   ]
  },
  {
   "cell_type": "markdown",
   "metadata": {},
   "source": [
    "The following steps will be implemented to preprocess the dataframes:\n",
    "\n",
    "1. Tokenisation: Split the reviews into individual tokens (words only).\n",
    "2. Stemming: Shorten words to their roots.\n",
    "3. Stop word filtering: Remove all stop words (like \"and\" and \"the\").\n",
    "4. Rejoin: Rejoin the meaningful stemmed words into a single string."
   ]
  },
  {
   "cell_type": "markdown",
   "metadata": {},
   "source": [
    "Create tokenisation function:"
   ]
  },
  {
   "cell_type": "code",
   "execution_count": 25,
   "metadata": {},
   "outputs": [],
   "source": [
    "def tokenisation(row):\n",
    "    review = row['Review']\n",
    "    tokens = nltk.word_tokenize(review)\n",
    "    \n",
    "    #Take words only - no punctuation\n",
    "    token_words = [w for w in tokens if w.isalpha()]\n",
    "    \n",
    "    return token_words"
   ]
  },
  {
   "cell_type": "code",
   "execution_count": 26,
   "metadata": {},
   "outputs": [],
   "source": [
    "#Apply tokenisaion function to each dataframe\n",
    "cafe_df['Review'] = cafe_df.apply(tokenisation, axis=1)\n",
    "salon_df['Review'] = salon_df.apply(tokenisation, axis=1)\n",
    "restaurant_df['Review'] = restaurant_df.apply(tokenisation, axis=1)"
   ]
  },
  {
   "cell_type": "markdown",
   "metadata": {},
   "source": [
    "Create stemming function:"
   ]
  },
  {
   "cell_type": "code",
   "execution_count": 27,
   "metadata": {},
   "outputs": [],
   "source": [
    "stemming = PorterStemmer()\n",
    "\n",
    "def stem_list(row):\n",
    "    combined_df = row['Review']\n",
    "    stemmed_list = [stemming.stem(word) for word in combined_df]\n",
    "    return (stemmed_list)"
   ]
  },
  {
   "cell_type": "code",
   "execution_count": 29,
   "metadata": {},
   "outputs": [],
   "source": [
    "#Apply stemming function to each dataframe\n",
    "cafe_df['Review'] = cafe_df.apply(stem_list, axis=1)\n",
    "salon_df['Review'] = salon_df.apply(stem_list, axis=1)\n",
    "restaurant_df['Review'] = restaurant_df.apply(stem_list, axis=1)"
   ]
  },
  {
   "cell_type": "markdown",
   "metadata": {},
   "source": [
    "Create function to remove stop words:"
   ]
  },
  {
   "cell_type": "code",
   "execution_count": 30,
   "metadata": {},
   "outputs": [],
   "source": [
    "stops = set(stopwords.words(\"english\"))\n",
    "\n",
    "def remove_stops(row):\n",
    "    combined_df = row['Review']\n",
    "    meaningful_words = [w for w in combined_df if not w in stops]\n",
    "    \n",
    "    return (meaningful_words)"
   ]
  },
  {
   "cell_type": "code",
   "execution_count": 31,
   "metadata": {},
   "outputs": [],
   "source": [
    "#Apply stop word function to each dataframe\n",
    "cafe_df['Review'] = cafe_df.apply(remove_stops, axis=1)\n",
    "salon_df['Review'] = salon_df.apply(remove_stops, axis=1)\n",
    "restaurant_df['Review'] = restaurant_df.apply(remove_stops, axis=1)"
   ]
  },
  {
   "cell_type": "markdown",
   "metadata": {},
   "source": [
    "Create function to rejoin tokenised/stemmed words into a single string:"
   ]
  },
  {
   "cell_type": "code",
   "execution_count": 32,
   "metadata": {},
   "outputs": [],
   "source": [
    "def rejoin_words(row):\n",
    "    combined_df = row['Review']\n",
    "    joined_words = ( \" \".join(combined_df))\n",
    "    return joined_words"
   ]
  },
  {
   "cell_type": "code",
   "execution_count": 33,
   "metadata": {},
   "outputs": [],
   "source": [
    "#Apply rejoin words function to each dataframe\n",
    "cafe_df['Review'] = cafe_df.apply(rejoin_words, axis=1)\n",
    "salon_df['Review'] = salon_df.apply(rejoin_words, axis=1)\n",
    "restaurant_df['Review'] = restaurant_df.apply(rejoin_words, axis=1)"
   ]
  },
  {
   "cell_type": "markdown",
   "metadata": {},
   "source": [
    "View the first few elements of the preprocessed dataframes:"
   ]
  },
  {
   "cell_type": "code",
   "execution_count": 34,
   "metadata": {},
   "outputs": [
    {
     "data": {
      "text/html": [
       "<div>\n",
       "<style scoped>\n",
       "    .dataframe tbody tr th:only-of-type {\n",
       "        vertical-align: middle;\n",
       "    }\n",
       "\n",
       "    .dataframe tbody tr th {\n",
       "        vertical-align: top;\n",
       "    }\n",
       "\n",
       "    .dataframe thead th {\n",
       "        text-align: right;\n",
       "    }\n",
       "</style>\n",
       "<table border=\"1\" class=\"dataframe\">\n",
       "  <thead>\n",
       "    <tr style=\"text-align: right;\">\n",
       "      <th></th>\n",
       "      <th>Rating</th>\n",
       "      <th>Review</th>\n",
       "    </tr>\n",
       "  </thead>\n",
       "  <tbody>\n",
       "    <tr>\n",
       "      <th>0</th>\n",
       "      <td>Positive</td>\n",
       "      <td>pro lot item would expect chine bakeri friendl...</td>\n",
       "    </tr>\n",
       "    <tr>\n",
       "      <th>1</th>\n",
       "      <td>Positive</td>\n",
       "      <td>best town realli much say hong kong style fast...</td>\n",
       "    </tr>\n",
       "    <tr>\n",
       "      <th>2</th>\n",
       "      <td>Negative</td>\n",
       "      <td>I abc bakeri time sinc I read one top place eg...</td>\n",
       "    </tr>\n",
       "    <tr>\n",
       "      <th>3</th>\n",
       "      <td>Negative</td>\n",
       "      <td>fyi close monday new ownership week new menu c...</td>\n",
       "    </tr>\n",
       "    <tr>\n",
       "      <th>4</th>\n",
       "      <td>Positive</td>\n",
       "      <td>insid may look like much make mean egg tart ve...</td>\n",
       "    </tr>\n",
       "  </tbody>\n",
       "</table>\n",
       "</div>"
      ],
      "text/plain": [
       "     Rating                                             Review\n",
       "0  Positive  pro lot item would expect chine bakeri friendl...\n",
       "1  Positive  best town realli much say hong kong style fast...\n",
       "2  Negative  I abc bakeri time sinc I read one top place eg...\n",
       "3  Negative  fyi close monday new ownership week new menu c...\n",
       "4  Positive  insid may look like much make mean egg tart ve..."
      ]
     },
     "execution_count": 34,
     "metadata": {},
     "output_type": "execute_result"
    }
   ],
   "source": [
    "cafe_df.head()"
   ]
  },
  {
   "cell_type": "code",
   "execution_count": 35,
   "metadata": {},
   "outputs": [
    {
     "data": {
      "text/html": [
       "<div>\n",
       "<style scoped>\n",
       "    .dataframe tbody tr th:only-of-type {\n",
       "        vertical-align: middle;\n",
       "    }\n",
       "\n",
       "    .dataframe tbody tr th {\n",
       "        vertical-align: top;\n",
       "    }\n",
       "\n",
       "    .dataframe thead th {\n",
       "        text-align: right;\n",
       "    }\n",
       "</style>\n",
       "<table border=\"1\" class=\"dataframe\">\n",
       "  <thead>\n",
       "    <tr style=\"text-align: right;\">\n",
       "      <th></th>\n",
       "      <th>Rating</th>\n",
       "      <th>Review</th>\n",
       "    </tr>\n",
       "  </thead>\n",
       "  <tbody>\n",
       "    <tr>\n",
       "      <th>0</th>\n",
       "      <td>Positive</td>\n",
       "      <td>one best barbershop I great price I honestli c...</td>\n",
       "    </tr>\n",
       "    <tr>\n",
       "      <th>1</th>\n",
       "      <td>Positive</td>\n",
       "      <td>took son haircut barber wa great exactli I wan...</td>\n",
       "    </tr>\n",
       "    <tr>\n",
       "      <th>2</th>\n",
       "      <td>Negative</td>\n",
       "      <td>walk said hi onli barber courtesi say hi back ...</td>\n",
       "    </tr>\n",
       "    <tr>\n",
       "      <th>3</th>\n",
       "      <td>Negative</td>\n",
       "      <td>I came minut befor get haircut open saturday a...</td>\n",
       "    </tr>\n",
       "    <tr>\n",
       "      <th>4</th>\n",
       "      <td>Positive</td>\n",
       "      <td>great haircut No fuss muss I ask layer V shape...</td>\n",
       "    </tr>\n",
       "  </tbody>\n",
       "</table>\n",
       "</div>"
      ],
      "text/plain": [
       "     Rating                                             Review\n",
       "0  Positive  one best barbershop I great price I honestli c...\n",
       "1  Positive  took son haircut barber wa great exactli I wan...\n",
       "2  Negative  walk said hi onli barber courtesi say hi back ...\n",
       "3  Negative  I came minut befor get haircut open saturday a...\n",
       "4  Positive  great haircut No fuss muss I ask layer V shape..."
      ]
     },
     "execution_count": 35,
     "metadata": {},
     "output_type": "execute_result"
    }
   ],
   "source": [
    "salon_df.head()"
   ]
  },
  {
   "cell_type": "code",
   "execution_count": 36,
   "metadata": {},
   "outputs": [
    {
     "data": {
      "text/html": [
       "<div>\n",
       "<style scoped>\n",
       "    .dataframe tbody tr th:only-of-type {\n",
       "        vertical-align: middle;\n",
       "    }\n",
       "\n",
       "    .dataframe tbody tr th {\n",
       "        vertical-align: top;\n",
       "    }\n",
       "\n",
       "    .dataframe thead th {\n",
       "        text-align: right;\n",
       "    }\n",
       "</style>\n",
       "<table border=\"1\" class=\"dataframe\">\n",
       "  <thead>\n",
       "    <tr style=\"text-align: right;\">\n",
       "      <th></th>\n",
       "      <th>Rating</th>\n",
       "      <th>Review</th>\n",
       "    </tr>\n",
       "  </thead>\n",
       "  <tbody>\n",
       "    <tr>\n",
       "      <th>0</th>\n",
       "      <td>Negative</td>\n",
       "      <td>My husband I rare afternoon decid tri thi plac...</td>\n",
       "    </tr>\n",
       "    <tr>\n",
       "      <th>1</th>\n",
       "      <td>Positive</td>\n",
       "      <td>year I thought thi wa onli wine store sister s...</td>\n",
       "    </tr>\n",
       "    <tr>\n",
       "      <th>2</th>\n",
       "      <td>Positive</td>\n",
       "      <td>thi place charm I went husband love simpl clea...</td>\n",
       "    </tr>\n",
       "    <tr>\n",
       "      <th>3</th>\n",
       "      <td>Positive</td>\n",
       "      <td>We want tri thi place coupl year final stop la...</td>\n",
       "    </tr>\n",
       "    <tr>\n",
       "      <th>4</th>\n",
       "      <td>Negative</td>\n",
       "      <td>decor look ok layout busi difficult walk breat...</td>\n",
       "    </tr>\n",
       "  </tbody>\n",
       "</table>\n",
       "</div>"
      ],
      "text/plain": [
       "     Rating                                             Review\n",
       "0  Negative  My husband I rare afternoon decid tri thi plac...\n",
       "1  Positive  year I thought thi wa onli wine store sister s...\n",
       "2  Positive  thi place charm I went husband love simpl clea...\n",
       "3  Positive  We want tri thi place coupl year final stop la...\n",
       "4  Negative  decor look ok layout busi difficult walk breat..."
      ]
     },
     "execution_count": 36,
     "metadata": {},
     "output_type": "execute_result"
    }
   ],
   "source": [
    "restaurant_df.head()"
   ]
  },
  {
   "cell_type": "markdown",
   "metadata": {},
   "source": [
    "## 2. (b) Build a classification model to distinguish between “positive” and “negative” reviews using one of the following classifiers: \n",
    "## Naive Bayes, Logistic Regression, Random Forests"
   ]
  },
  {
   "cell_type": "markdown",
   "metadata": {},
   "source": [
    "I am going to build a Naive Bayes classification model to determine whether a review is positive or negative, starting with Cafes."
   ]
  },
  {
   "cell_type": "code",
   "execution_count": 37,
   "metadata": {},
   "outputs": [
    {
     "data": {
      "text/html": [
       "<div>\n",
       "<style scoped>\n",
       "    .dataframe tbody tr th:only-of-type {\n",
       "        vertical-align: middle;\n",
       "    }\n",
       "\n",
       "    .dataframe tbody tr th {\n",
       "        vertical-align: top;\n",
       "    }\n",
       "\n",
       "    .dataframe thead th {\n",
       "        text-align: right;\n",
       "    }\n",
       "</style>\n",
       "<table border=\"1\" class=\"dataframe\">\n",
       "  <thead>\n",
       "    <tr style=\"text-align: right;\">\n",
       "      <th></th>\n",
       "      <th>aaa</th>\n",
       "      <th>aaand</th>\n",
       "      <th>aau</th>\n",
       "      <th>ab</th>\n",
       "      <th>abbot</th>\n",
       "      <th>abc</th>\n",
       "      <th>aber</th>\n",
       "      <th>aberr</th>\n",
       "      <th>abhorr</th>\n",
       "      <th>abil</th>\n",
       "      <th>...</th>\n",
       "      <th>époustouflé</th>\n",
       "      <th>équilibr</th>\n",
       "      <th>établiss</th>\n",
       "      <th>étaient</th>\n",
       "      <th>était</th>\n",
       "      <th>étoil</th>\n",
       "      <th>étrangement</th>\n",
       "      <th>été</th>\n",
       "      <th>üppige</th>\n",
       "      <th>Rating</th>\n",
       "    </tr>\n",
       "  </thead>\n",
       "  <tbody>\n",
       "    <tr>\n",
       "      <th>0</th>\n",
       "      <td>0.0</td>\n",
       "      <td>0.0</td>\n",
       "      <td>0.0</td>\n",
       "      <td>0.0</td>\n",
       "      <td>0.0</td>\n",
       "      <td>0.181586</td>\n",
       "      <td>0.0</td>\n",
       "      <td>0.0</td>\n",
       "      <td>0.0</td>\n",
       "      <td>0.0</td>\n",
       "      <td>...</td>\n",
       "      <td>0.0</td>\n",
       "      <td>0.0</td>\n",
       "      <td>0.0</td>\n",
       "      <td>0.0</td>\n",
       "      <td>0.0</td>\n",
       "      <td>0.0</td>\n",
       "      <td>0.0</td>\n",
       "      <td>0.0</td>\n",
       "      <td>0.0</td>\n",
       "      <td>Positive</td>\n",
       "    </tr>\n",
       "    <tr>\n",
       "      <th>1</th>\n",
       "      <td>0.0</td>\n",
       "      <td>0.0</td>\n",
       "      <td>0.0</td>\n",
       "      <td>0.0</td>\n",
       "      <td>0.0</td>\n",
       "      <td>0.000000</td>\n",
       "      <td>0.0</td>\n",
       "      <td>0.0</td>\n",
       "      <td>0.0</td>\n",
       "      <td>0.0</td>\n",
       "      <td>...</td>\n",
       "      <td>0.0</td>\n",
       "      <td>0.0</td>\n",
       "      <td>0.0</td>\n",
       "      <td>0.0</td>\n",
       "      <td>0.0</td>\n",
       "      <td>0.0</td>\n",
       "      <td>0.0</td>\n",
       "      <td>0.0</td>\n",
       "      <td>0.0</td>\n",
       "      <td>Positive</td>\n",
       "    </tr>\n",
       "    <tr>\n",
       "      <th>2</th>\n",
       "      <td>0.0</td>\n",
       "      <td>0.0</td>\n",
       "      <td>0.0</td>\n",
       "      <td>0.0</td>\n",
       "      <td>0.0</td>\n",
       "      <td>0.082311</td>\n",
       "      <td>0.0</td>\n",
       "      <td>0.0</td>\n",
       "      <td>0.0</td>\n",
       "      <td>0.0</td>\n",
       "      <td>...</td>\n",
       "      <td>0.0</td>\n",
       "      <td>0.0</td>\n",
       "      <td>0.0</td>\n",
       "      <td>0.0</td>\n",
       "      <td>0.0</td>\n",
       "      <td>0.0</td>\n",
       "      <td>0.0</td>\n",
       "      <td>0.0</td>\n",
       "      <td>0.0</td>\n",
       "      <td>Negative</td>\n",
       "    </tr>\n",
       "    <tr>\n",
       "      <th>3</th>\n",
       "      <td>0.0</td>\n",
       "      <td>0.0</td>\n",
       "      <td>0.0</td>\n",
       "      <td>0.0</td>\n",
       "      <td>0.0</td>\n",
       "      <td>0.000000</td>\n",
       "      <td>0.0</td>\n",
       "      <td>0.0</td>\n",
       "      <td>0.0</td>\n",
       "      <td>0.0</td>\n",
       "      <td>...</td>\n",
       "      <td>0.0</td>\n",
       "      <td>0.0</td>\n",
       "      <td>0.0</td>\n",
       "      <td>0.0</td>\n",
       "      <td>0.0</td>\n",
       "      <td>0.0</td>\n",
       "      <td>0.0</td>\n",
       "      <td>0.0</td>\n",
       "      <td>0.0</td>\n",
       "      <td>Negative</td>\n",
       "    </tr>\n",
       "    <tr>\n",
       "      <th>4</th>\n",
       "      <td>0.0</td>\n",
       "      <td>0.0</td>\n",
       "      <td>0.0</td>\n",
       "      <td>0.0</td>\n",
       "      <td>0.0</td>\n",
       "      <td>0.000000</td>\n",
       "      <td>0.0</td>\n",
       "      <td>0.0</td>\n",
       "      <td>0.0</td>\n",
       "      <td>0.0</td>\n",
       "      <td>...</td>\n",
       "      <td>0.0</td>\n",
       "      <td>0.0</td>\n",
       "      <td>0.0</td>\n",
       "      <td>0.0</td>\n",
       "      <td>0.0</td>\n",
       "      <td>0.0</td>\n",
       "      <td>0.0</td>\n",
       "      <td>0.0</td>\n",
       "      <td>0.0</td>\n",
       "      <td>Positive</td>\n",
       "    </tr>\n",
       "    <tr>\n",
       "      <th>...</th>\n",
       "      <td>...</td>\n",
       "      <td>...</td>\n",
       "      <td>...</td>\n",
       "      <td>...</td>\n",
       "      <td>...</td>\n",
       "      <td>...</td>\n",
       "      <td>...</td>\n",
       "      <td>...</td>\n",
       "      <td>...</td>\n",
       "      <td>...</td>\n",
       "      <td>...</td>\n",
       "      <td>...</td>\n",
       "      <td>...</td>\n",
       "      <td>...</td>\n",
       "      <td>...</td>\n",
       "      <td>...</td>\n",
       "      <td>...</td>\n",
       "      <td>...</td>\n",
       "      <td>...</td>\n",
       "      <td>...</td>\n",
       "      <td>...</td>\n",
       "    </tr>\n",
       "    <tr>\n",
       "      <th>1995</th>\n",
       "      <td>0.0</td>\n",
       "      <td>0.0</td>\n",
       "      <td>0.0</td>\n",
       "      <td>0.0</td>\n",
       "      <td>0.0</td>\n",
       "      <td>0.000000</td>\n",
       "      <td>0.0</td>\n",
       "      <td>0.0</td>\n",
       "      <td>0.0</td>\n",
       "      <td>0.0</td>\n",
       "      <td>...</td>\n",
       "      <td>0.0</td>\n",
       "      <td>0.0</td>\n",
       "      <td>0.0</td>\n",
       "      <td>0.0</td>\n",
       "      <td>0.0</td>\n",
       "      <td>0.0</td>\n",
       "      <td>0.0</td>\n",
       "      <td>0.0</td>\n",
       "      <td>0.0</td>\n",
       "      <td>Negative</td>\n",
       "    </tr>\n",
       "    <tr>\n",
       "      <th>1996</th>\n",
       "      <td>0.0</td>\n",
       "      <td>0.0</td>\n",
       "      <td>0.0</td>\n",
       "      <td>0.0</td>\n",
       "      <td>0.0</td>\n",
       "      <td>0.000000</td>\n",
       "      <td>0.0</td>\n",
       "      <td>0.0</td>\n",
       "      <td>0.0</td>\n",
       "      <td>0.0</td>\n",
       "      <td>...</td>\n",
       "      <td>0.0</td>\n",
       "      <td>0.0</td>\n",
       "      <td>0.0</td>\n",
       "      <td>0.0</td>\n",
       "      <td>0.0</td>\n",
       "      <td>0.0</td>\n",
       "      <td>0.0</td>\n",
       "      <td>0.0</td>\n",
       "      <td>0.0</td>\n",
       "      <td>Negative</td>\n",
       "    </tr>\n",
       "    <tr>\n",
       "      <th>1997</th>\n",
       "      <td>0.0</td>\n",
       "      <td>0.0</td>\n",
       "      <td>0.0</td>\n",
       "      <td>0.0</td>\n",
       "      <td>0.0</td>\n",
       "      <td>0.000000</td>\n",
       "      <td>0.0</td>\n",
       "      <td>0.0</td>\n",
       "      <td>0.0</td>\n",
       "      <td>0.0</td>\n",
       "      <td>...</td>\n",
       "      <td>0.0</td>\n",
       "      <td>0.0</td>\n",
       "      <td>0.0</td>\n",
       "      <td>0.0</td>\n",
       "      <td>0.0</td>\n",
       "      <td>0.0</td>\n",
       "      <td>0.0</td>\n",
       "      <td>0.0</td>\n",
       "      <td>0.0</td>\n",
       "      <td>Negative</td>\n",
       "    </tr>\n",
       "    <tr>\n",
       "      <th>1998</th>\n",
       "      <td>0.0</td>\n",
       "      <td>0.0</td>\n",
       "      <td>0.0</td>\n",
       "      <td>0.0</td>\n",
       "      <td>0.0</td>\n",
       "      <td>0.000000</td>\n",
       "      <td>0.0</td>\n",
       "      <td>0.0</td>\n",
       "      <td>0.0</td>\n",
       "      <td>0.0</td>\n",
       "      <td>...</td>\n",
       "      <td>0.0</td>\n",
       "      <td>0.0</td>\n",
       "      <td>0.0</td>\n",
       "      <td>0.0</td>\n",
       "      <td>0.0</td>\n",
       "      <td>0.0</td>\n",
       "      <td>0.0</td>\n",
       "      <td>0.0</td>\n",
       "      <td>0.0</td>\n",
       "      <td>Negative</td>\n",
       "    </tr>\n",
       "    <tr>\n",
       "      <th>1999</th>\n",
       "      <td>0.0</td>\n",
       "      <td>0.0</td>\n",
       "      <td>0.0</td>\n",
       "      <td>0.0</td>\n",
       "      <td>0.0</td>\n",
       "      <td>0.000000</td>\n",
       "      <td>0.0</td>\n",
       "      <td>0.0</td>\n",
       "      <td>0.0</td>\n",
       "      <td>0.0</td>\n",
       "      <td>...</td>\n",
       "      <td>0.0</td>\n",
       "      <td>0.0</td>\n",
       "      <td>0.0</td>\n",
       "      <td>0.0</td>\n",
       "      <td>0.0</td>\n",
       "      <td>0.0</td>\n",
       "      <td>0.0</td>\n",
       "      <td>0.0</td>\n",
       "      <td>0.0</td>\n",
       "      <td>Positive</td>\n",
       "    </tr>\n",
       "  </tbody>\n",
       "</table>\n",
       "<p>2000 rows × 7345 columns</p>\n",
       "</div>"
      ],
      "text/plain": [
       "      aaa  aaand  aau   ab  abbot       abc  aber  aberr  abhorr  abil  ...  \\\n",
       "0     0.0    0.0  0.0  0.0    0.0  0.181586   0.0    0.0     0.0   0.0  ...   \n",
       "1     0.0    0.0  0.0  0.0    0.0  0.000000   0.0    0.0     0.0   0.0  ...   \n",
       "2     0.0    0.0  0.0  0.0    0.0  0.082311   0.0    0.0     0.0   0.0  ...   \n",
       "3     0.0    0.0  0.0  0.0    0.0  0.000000   0.0    0.0     0.0   0.0  ...   \n",
       "4     0.0    0.0  0.0  0.0    0.0  0.000000   0.0    0.0     0.0   0.0  ...   \n",
       "...   ...    ...  ...  ...    ...       ...   ...    ...     ...   ...  ...   \n",
       "1995  0.0    0.0  0.0  0.0    0.0  0.000000   0.0    0.0     0.0   0.0  ...   \n",
       "1996  0.0    0.0  0.0  0.0    0.0  0.000000   0.0    0.0     0.0   0.0  ...   \n",
       "1997  0.0    0.0  0.0  0.0    0.0  0.000000   0.0    0.0     0.0   0.0  ...   \n",
       "1998  0.0    0.0  0.0  0.0    0.0  0.000000   0.0    0.0     0.0   0.0  ...   \n",
       "1999  0.0    0.0  0.0  0.0    0.0  0.000000   0.0    0.0     0.0   0.0  ...   \n",
       "\n",
       "      époustouflé  équilibr  établiss  étaient  était  étoil  étrangement  \\\n",
       "0             0.0       0.0       0.0      0.0    0.0    0.0          0.0   \n",
       "1             0.0       0.0       0.0      0.0    0.0    0.0          0.0   \n",
       "2             0.0       0.0       0.0      0.0    0.0    0.0          0.0   \n",
       "3             0.0       0.0       0.0      0.0    0.0    0.0          0.0   \n",
       "4             0.0       0.0       0.0      0.0    0.0    0.0          0.0   \n",
       "...           ...       ...       ...      ...    ...    ...          ...   \n",
       "1995          0.0       0.0       0.0      0.0    0.0    0.0          0.0   \n",
       "1996          0.0       0.0       0.0      0.0    0.0    0.0          0.0   \n",
       "1997          0.0       0.0       0.0      0.0    0.0    0.0          0.0   \n",
       "1998          0.0       0.0       0.0      0.0    0.0    0.0          0.0   \n",
       "1999          0.0       0.0       0.0      0.0    0.0    0.0          0.0   \n",
       "\n",
       "      été  üppige    Rating  \n",
       "0     0.0     0.0  Positive  \n",
       "1     0.0     0.0  Positive  \n",
       "2     0.0     0.0  Negative  \n",
       "3     0.0     0.0  Negative  \n",
       "4     0.0     0.0  Positive  \n",
       "...   ...     ...       ...  \n",
       "1995  0.0     0.0  Negative  \n",
       "1996  0.0     0.0  Negative  \n",
       "1997  0.0     0.0  Negative  \n",
       "1998  0.0     0.0  Negative  \n",
       "1999  0.0     0.0  Positive  \n",
       "\n",
       "[2000 rows x 7345 columns]"
      ]
     },
     "execution_count": 37,
     "metadata": {},
     "output_type": "execute_result"
    }
   ],
   "source": [
    "#Generate a weighted review-term matrix using TfidfVectorizer\n",
    "vectorizer = TfidfVectorizer()\n",
    "cafe_vec = vectorizer.fit_transform(cafe_df['Review'])\n",
    "cafe_terms = vectorizer.get_feature_names()\n",
    "\n",
    "#Create a dataframe of the weighted terms\n",
    "cafe_vec_df = pd.DataFrame(cafe_vec.todense(), columns=cafe_terms)\n",
    "\n",
    "#Add another column that lists the ratings\n",
    "cafe_vec_df['Rating'] = list(cafe_df['Rating'])\n",
    "cafe_vec_df"
   ]
  },
  {
   "cell_type": "markdown",
   "metadata": {},
   "source": [
    "Select a random sample to train the model and test with all the Cafe data:"
   ]
  },
  {
   "cell_type": "code",
   "execution_count": 38,
   "metadata": {},
   "outputs": [],
   "source": [
    "cafe_data_train, cafe_data_test, cafe_target_train, cafe_target_test = train_test_split(cafe_vec_df.iloc[:,0:-1], cafe_vec_df.iloc[:,-1], test_size=0.2)"
   ]
  },
  {
   "cell_type": "code",
   "execution_count": 39,
   "metadata": {},
   "outputs": [],
   "source": [
    "cafe_model = MultinomialNB()\n",
    "cafe_model.fit(cafe_data_train, cafe_target_train)\n",
    "cafe_predicted = cafe_model.predict(cafe_data_test)"
   ]
  },
  {
   "cell_type": "markdown",
   "metadata": {},
   "source": [
    "Repeat all the above steps for Hair and Salons:"
   ]
  },
  {
   "cell_type": "code",
   "execution_count": 40,
   "metadata": {},
   "outputs": [
    {
     "data": {
      "text/html": [
       "<div>\n",
       "<style scoped>\n",
       "    .dataframe tbody tr th:only-of-type {\n",
       "        vertical-align: middle;\n",
       "    }\n",
       "\n",
       "    .dataframe tbody tr th {\n",
       "        vertical-align: top;\n",
       "    }\n",
       "\n",
       "    .dataframe thead th {\n",
       "        text-align: right;\n",
       "    }\n",
       "</style>\n",
       "<table border=\"1\" class=\"dataframe\">\n",
       "  <thead>\n",
       "    <tr style=\"text-align: right;\">\n",
       "      <th></th>\n",
       "      <th>aamaazi</th>\n",
       "      <th>aaron</th>\n",
       "      <th>aback</th>\n",
       "      <th>abbi</th>\n",
       "      <th>abe</th>\n",
       "      <th>abil</th>\n",
       "      <th>abl</th>\n",
       "      <th>aboard</th>\n",
       "      <th>abomin</th>\n",
       "      <th>abort</th>\n",
       "      <th>...</th>\n",
       "      <th>zoe</th>\n",
       "      <th>zone</th>\n",
       "      <th>zooey</th>\n",
       "      <th>zuckerberg</th>\n",
       "      <th>écout</th>\n",
       "      <th>élevé</th>\n",
       "      <th>émili</th>\n",
       "      <th>étaient</th>\n",
       "      <th>été</th>\n",
       "      <th>Rating</th>\n",
       "    </tr>\n",
       "  </thead>\n",
       "  <tbody>\n",
       "    <tr>\n",
       "      <th>0</th>\n",
       "      <td>0.0</td>\n",
       "      <td>0.0</td>\n",
       "      <td>0.0</td>\n",
       "      <td>0.0</td>\n",
       "      <td>0.0</td>\n",
       "      <td>0.0</td>\n",
       "      <td>0.0</td>\n",
       "      <td>0.0</td>\n",
       "      <td>0.0</td>\n",
       "      <td>0.0</td>\n",
       "      <td>...</td>\n",
       "      <td>0.0</td>\n",
       "      <td>0.0</td>\n",
       "      <td>0.0</td>\n",
       "      <td>0.0</td>\n",
       "      <td>0.0</td>\n",
       "      <td>0.0</td>\n",
       "      <td>0.0</td>\n",
       "      <td>0.0</td>\n",
       "      <td>0.0</td>\n",
       "      <td>Positive</td>\n",
       "    </tr>\n",
       "    <tr>\n",
       "      <th>1</th>\n",
       "      <td>0.0</td>\n",
       "      <td>0.0</td>\n",
       "      <td>0.0</td>\n",
       "      <td>0.0</td>\n",
       "      <td>0.0</td>\n",
       "      <td>0.0</td>\n",
       "      <td>0.0</td>\n",
       "      <td>0.0</td>\n",
       "      <td>0.0</td>\n",
       "      <td>0.0</td>\n",
       "      <td>...</td>\n",
       "      <td>0.0</td>\n",
       "      <td>0.0</td>\n",
       "      <td>0.0</td>\n",
       "      <td>0.0</td>\n",
       "      <td>0.0</td>\n",
       "      <td>0.0</td>\n",
       "      <td>0.0</td>\n",
       "      <td>0.0</td>\n",
       "      <td>0.0</td>\n",
       "      <td>Positive</td>\n",
       "    </tr>\n",
       "    <tr>\n",
       "      <th>2</th>\n",
       "      <td>0.0</td>\n",
       "      <td>0.0</td>\n",
       "      <td>0.0</td>\n",
       "      <td>0.0</td>\n",
       "      <td>0.0</td>\n",
       "      <td>0.0</td>\n",
       "      <td>0.0</td>\n",
       "      <td>0.0</td>\n",
       "      <td>0.0</td>\n",
       "      <td>0.0</td>\n",
       "      <td>...</td>\n",
       "      <td>0.0</td>\n",
       "      <td>0.0</td>\n",
       "      <td>0.0</td>\n",
       "      <td>0.0</td>\n",
       "      <td>0.0</td>\n",
       "      <td>0.0</td>\n",
       "      <td>0.0</td>\n",
       "      <td>0.0</td>\n",
       "      <td>0.0</td>\n",
       "      <td>Negative</td>\n",
       "    </tr>\n",
       "    <tr>\n",
       "      <th>3</th>\n",
       "      <td>0.0</td>\n",
       "      <td>0.0</td>\n",
       "      <td>0.0</td>\n",
       "      <td>0.0</td>\n",
       "      <td>0.0</td>\n",
       "      <td>0.0</td>\n",
       "      <td>0.0</td>\n",
       "      <td>0.0</td>\n",
       "      <td>0.0</td>\n",
       "      <td>0.0</td>\n",
       "      <td>...</td>\n",
       "      <td>0.0</td>\n",
       "      <td>0.0</td>\n",
       "      <td>0.0</td>\n",
       "      <td>0.0</td>\n",
       "      <td>0.0</td>\n",
       "      <td>0.0</td>\n",
       "      <td>0.0</td>\n",
       "      <td>0.0</td>\n",
       "      <td>0.0</td>\n",
       "      <td>Negative</td>\n",
       "    </tr>\n",
       "    <tr>\n",
       "      <th>4</th>\n",
       "      <td>0.0</td>\n",
       "      <td>0.0</td>\n",
       "      <td>0.0</td>\n",
       "      <td>0.0</td>\n",
       "      <td>0.0</td>\n",
       "      <td>0.0</td>\n",
       "      <td>0.0</td>\n",
       "      <td>0.0</td>\n",
       "      <td>0.0</td>\n",
       "      <td>0.0</td>\n",
       "      <td>...</td>\n",
       "      <td>0.0</td>\n",
       "      <td>0.0</td>\n",
       "      <td>0.0</td>\n",
       "      <td>0.0</td>\n",
       "      <td>0.0</td>\n",
       "      <td>0.0</td>\n",
       "      <td>0.0</td>\n",
       "      <td>0.0</td>\n",
       "      <td>0.0</td>\n",
       "      <td>Positive</td>\n",
       "    </tr>\n",
       "    <tr>\n",
       "      <th>...</th>\n",
       "      <td>...</td>\n",
       "      <td>...</td>\n",
       "      <td>...</td>\n",
       "      <td>...</td>\n",
       "      <td>...</td>\n",
       "      <td>...</td>\n",
       "      <td>...</td>\n",
       "      <td>...</td>\n",
       "      <td>...</td>\n",
       "      <td>...</td>\n",
       "      <td>...</td>\n",
       "      <td>...</td>\n",
       "      <td>...</td>\n",
       "      <td>...</td>\n",
       "      <td>...</td>\n",
       "      <td>...</td>\n",
       "      <td>...</td>\n",
       "      <td>...</td>\n",
       "      <td>...</td>\n",
       "      <td>...</td>\n",
       "      <td>...</td>\n",
       "    </tr>\n",
       "    <tr>\n",
       "      <th>1995</th>\n",
       "      <td>0.0</td>\n",
       "      <td>0.0</td>\n",
       "      <td>0.0</td>\n",
       "      <td>0.0</td>\n",
       "      <td>0.0</td>\n",
       "      <td>0.0</td>\n",
       "      <td>0.0</td>\n",
       "      <td>0.0</td>\n",
       "      <td>0.0</td>\n",
       "      <td>0.0</td>\n",
       "      <td>...</td>\n",
       "      <td>0.0</td>\n",
       "      <td>0.0</td>\n",
       "      <td>0.0</td>\n",
       "      <td>0.0</td>\n",
       "      <td>0.0</td>\n",
       "      <td>0.0</td>\n",
       "      <td>0.0</td>\n",
       "      <td>0.0</td>\n",
       "      <td>0.0</td>\n",
       "      <td>Positive</td>\n",
       "    </tr>\n",
       "    <tr>\n",
       "      <th>1996</th>\n",
       "      <td>0.0</td>\n",
       "      <td>0.0</td>\n",
       "      <td>0.0</td>\n",
       "      <td>0.0</td>\n",
       "      <td>0.0</td>\n",
       "      <td>0.0</td>\n",
       "      <td>0.0</td>\n",
       "      <td>0.0</td>\n",
       "      <td>0.0</td>\n",
       "      <td>0.0</td>\n",
       "      <td>...</td>\n",
       "      <td>0.0</td>\n",
       "      <td>0.0</td>\n",
       "      <td>0.0</td>\n",
       "      <td>0.0</td>\n",
       "      <td>0.0</td>\n",
       "      <td>0.0</td>\n",
       "      <td>0.0</td>\n",
       "      <td>0.0</td>\n",
       "      <td>0.0</td>\n",
       "      <td>Positive</td>\n",
       "    </tr>\n",
       "    <tr>\n",
       "      <th>1997</th>\n",
       "      <td>0.0</td>\n",
       "      <td>0.0</td>\n",
       "      <td>0.0</td>\n",
       "      <td>0.0</td>\n",
       "      <td>0.0</td>\n",
       "      <td>0.0</td>\n",
       "      <td>0.0</td>\n",
       "      <td>0.0</td>\n",
       "      <td>0.0</td>\n",
       "      <td>0.0</td>\n",
       "      <td>...</td>\n",
       "      <td>0.0</td>\n",
       "      <td>0.0</td>\n",
       "      <td>0.0</td>\n",
       "      <td>0.0</td>\n",
       "      <td>0.0</td>\n",
       "      <td>0.0</td>\n",
       "      <td>0.0</td>\n",
       "      <td>0.0</td>\n",
       "      <td>0.0</td>\n",
       "      <td>Positive</td>\n",
       "    </tr>\n",
       "    <tr>\n",
       "      <th>1998</th>\n",
       "      <td>0.0</td>\n",
       "      <td>0.0</td>\n",
       "      <td>0.0</td>\n",
       "      <td>0.0</td>\n",
       "      <td>0.0</td>\n",
       "      <td>0.0</td>\n",
       "      <td>0.0</td>\n",
       "      <td>0.0</td>\n",
       "      <td>0.0</td>\n",
       "      <td>0.0</td>\n",
       "      <td>...</td>\n",
       "      <td>0.0</td>\n",
       "      <td>0.0</td>\n",
       "      <td>0.0</td>\n",
       "      <td>0.0</td>\n",
       "      <td>0.0</td>\n",
       "      <td>0.0</td>\n",
       "      <td>0.0</td>\n",
       "      <td>0.0</td>\n",
       "      <td>0.0</td>\n",
       "      <td>Positive</td>\n",
       "    </tr>\n",
       "    <tr>\n",
       "      <th>1999</th>\n",
       "      <td>0.0</td>\n",
       "      <td>0.0</td>\n",
       "      <td>0.0</td>\n",
       "      <td>0.0</td>\n",
       "      <td>0.0</td>\n",
       "      <td>0.0</td>\n",
       "      <td>0.0</td>\n",
       "      <td>0.0</td>\n",
       "      <td>0.0</td>\n",
       "      <td>0.0</td>\n",
       "      <td>...</td>\n",
       "      <td>0.0</td>\n",
       "      <td>0.0</td>\n",
       "      <td>0.0</td>\n",
       "      <td>0.0</td>\n",
       "      <td>0.0</td>\n",
       "      <td>0.0</td>\n",
       "      <td>0.0</td>\n",
       "      <td>0.0</td>\n",
       "      <td>0.0</td>\n",
       "      <td>Positive</td>\n",
       "    </tr>\n",
       "  </tbody>\n",
       "</table>\n",
       "<p>2000 rows × 6102 columns</p>\n",
       "</div>"
      ],
      "text/plain": [
       "      aamaazi  aaron  aback  abbi  abe  abil  abl  aboard  abomin  abort  ...  \\\n",
       "0         0.0    0.0    0.0   0.0  0.0   0.0  0.0     0.0     0.0    0.0  ...   \n",
       "1         0.0    0.0    0.0   0.0  0.0   0.0  0.0     0.0     0.0    0.0  ...   \n",
       "2         0.0    0.0    0.0   0.0  0.0   0.0  0.0     0.0     0.0    0.0  ...   \n",
       "3         0.0    0.0    0.0   0.0  0.0   0.0  0.0     0.0     0.0    0.0  ...   \n",
       "4         0.0    0.0    0.0   0.0  0.0   0.0  0.0     0.0     0.0    0.0  ...   \n",
       "...       ...    ...    ...   ...  ...   ...  ...     ...     ...    ...  ...   \n",
       "1995      0.0    0.0    0.0   0.0  0.0   0.0  0.0     0.0     0.0    0.0  ...   \n",
       "1996      0.0    0.0    0.0   0.0  0.0   0.0  0.0     0.0     0.0    0.0  ...   \n",
       "1997      0.0    0.0    0.0   0.0  0.0   0.0  0.0     0.0     0.0    0.0  ...   \n",
       "1998      0.0    0.0    0.0   0.0  0.0   0.0  0.0     0.0     0.0    0.0  ...   \n",
       "1999      0.0    0.0    0.0   0.0  0.0   0.0  0.0     0.0     0.0    0.0  ...   \n",
       "\n",
       "      zoe  zone  zooey  zuckerberg  écout  élevé  émili  étaient  été  \\\n",
       "0     0.0   0.0    0.0         0.0    0.0    0.0    0.0      0.0  0.0   \n",
       "1     0.0   0.0    0.0         0.0    0.0    0.0    0.0      0.0  0.0   \n",
       "2     0.0   0.0    0.0         0.0    0.0    0.0    0.0      0.0  0.0   \n",
       "3     0.0   0.0    0.0         0.0    0.0    0.0    0.0      0.0  0.0   \n",
       "4     0.0   0.0    0.0         0.0    0.0    0.0    0.0      0.0  0.0   \n",
       "...   ...   ...    ...         ...    ...    ...    ...      ...  ...   \n",
       "1995  0.0   0.0    0.0         0.0    0.0    0.0    0.0      0.0  0.0   \n",
       "1996  0.0   0.0    0.0         0.0    0.0    0.0    0.0      0.0  0.0   \n",
       "1997  0.0   0.0    0.0         0.0    0.0    0.0    0.0      0.0  0.0   \n",
       "1998  0.0   0.0    0.0         0.0    0.0    0.0    0.0      0.0  0.0   \n",
       "1999  0.0   0.0    0.0         0.0    0.0    0.0    0.0      0.0  0.0   \n",
       "\n",
       "        Rating  \n",
       "0     Positive  \n",
       "1     Positive  \n",
       "2     Negative  \n",
       "3     Negative  \n",
       "4     Positive  \n",
       "...        ...  \n",
       "1995  Positive  \n",
       "1996  Positive  \n",
       "1997  Positive  \n",
       "1998  Positive  \n",
       "1999  Positive  \n",
       "\n",
       "[2000 rows x 6102 columns]"
      ]
     },
     "execution_count": 40,
     "metadata": {},
     "output_type": "execute_result"
    }
   ],
   "source": [
    "#Generate a weighted review-term matrix using TfidfVectorizer\n",
    "salon_vec = vectorizer.fit_transform(salon_df['Review'])\n",
    "salon_terms = vectorizer.get_feature_names()\n",
    "\n",
    "#Create a dataframe of the weighted terms\n",
    "salon_vec_df = pd.DataFrame(salon_vec.todense(), columns=salon_terms)\n",
    "\n",
    "#Add another column that lists the ratings\n",
    "salon_vec_df['Rating'] = list(salon_df['Rating'])\n",
    "salon_vec_df"
   ]
  },
  {
   "cell_type": "code",
   "execution_count": 41,
   "metadata": {},
   "outputs": [],
   "source": [
    "salon_data_train, salon_data_test, salon_target_train, salon_target_test = train_test_split(salon_vec_df.iloc[:,0:-1], salon_vec_df.iloc[:,-1], test_size=0.2)"
   ]
  },
  {
   "cell_type": "code",
   "execution_count": 42,
   "metadata": {},
   "outputs": [],
   "source": [
    "salon_model = MultinomialNB()\n",
    "salon_model.fit(salon_data_train, salon_target_train)\n",
    "salon_predicted = salon_model.predict(salon_data_test)"
   ]
  },
  {
   "cell_type": "markdown",
   "metadata": {},
   "source": [
    "Repeat all the above steps for Restaurants:"
   ]
  },
  {
   "cell_type": "code",
   "execution_count": 43,
   "metadata": {},
   "outputs": [
    {
     "data": {
      "text/html": [
       "<div>\n",
       "<style scoped>\n",
       "    .dataframe tbody tr th:only-of-type {\n",
       "        vertical-align: middle;\n",
       "    }\n",
       "\n",
       "    .dataframe tbody tr th {\n",
       "        vertical-align: top;\n",
       "    }\n",
       "\n",
       "    .dataframe thead th {\n",
       "        text-align: right;\n",
       "    }\n",
       "</style>\n",
       "<table border=\"1\" class=\"dataframe\">\n",
       "  <thead>\n",
       "    <tr style=\"text-align: right;\">\n",
       "      <th></th>\n",
       "      <th>aaah</th>\n",
       "      <th>aaahhhh</th>\n",
       "      <th>aarp</th>\n",
       "      <th>ab</th>\n",
       "      <th>abandon</th>\n",
       "      <th>abc</th>\n",
       "      <th>abdul</th>\n",
       "      <th>abdullah</th>\n",
       "      <th>abend</th>\n",
       "      <th>aber</th>\n",
       "      <th>...</th>\n",
       "      <th>élevé</th>\n",
       "      <th>étaient</th>\n",
       "      <th>était</th>\n",
       "      <th>être</th>\n",
       "      <th>über</th>\n",
       "      <th>übersichtlich</th>\n",
       "      <th>überzeugt</th>\n",
       "      <th>überzogen</th>\n",
       "      <th>übrigen</th>\n",
       "      <th>Rating</th>\n",
       "    </tr>\n",
       "  </thead>\n",
       "  <tbody>\n",
       "    <tr>\n",
       "      <th>0</th>\n",
       "      <td>0.0</td>\n",
       "      <td>0.0</td>\n",
       "      <td>0.0</td>\n",
       "      <td>0.0</td>\n",
       "      <td>0.0</td>\n",
       "      <td>0.0</td>\n",
       "      <td>0.0</td>\n",
       "      <td>0.0</td>\n",
       "      <td>0.0</td>\n",
       "      <td>0.0</td>\n",
       "      <td>...</td>\n",
       "      <td>0.0</td>\n",
       "      <td>0.0</td>\n",
       "      <td>0.0</td>\n",
       "      <td>0.0</td>\n",
       "      <td>0.0</td>\n",
       "      <td>0.0</td>\n",
       "      <td>0.0</td>\n",
       "      <td>0.0</td>\n",
       "      <td>0.0</td>\n",
       "      <td>Negative</td>\n",
       "    </tr>\n",
       "    <tr>\n",
       "      <th>1</th>\n",
       "      <td>0.0</td>\n",
       "      <td>0.0</td>\n",
       "      <td>0.0</td>\n",
       "      <td>0.0</td>\n",
       "      <td>0.0</td>\n",
       "      <td>0.0</td>\n",
       "      <td>0.0</td>\n",
       "      <td>0.0</td>\n",
       "      <td>0.0</td>\n",
       "      <td>0.0</td>\n",
       "      <td>...</td>\n",
       "      <td>0.0</td>\n",
       "      <td>0.0</td>\n",
       "      <td>0.0</td>\n",
       "      <td>0.0</td>\n",
       "      <td>0.0</td>\n",
       "      <td>0.0</td>\n",
       "      <td>0.0</td>\n",
       "      <td>0.0</td>\n",
       "      <td>0.0</td>\n",
       "      <td>Positive</td>\n",
       "    </tr>\n",
       "    <tr>\n",
       "      <th>2</th>\n",
       "      <td>0.0</td>\n",
       "      <td>0.0</td>\n",
       "      <td>0.0</td>\n",
       "      <td>0.0</td>\n",
       "      <td>0.0</td>\n",
       "      <td>0.0</td>\n",
       "      <td>0.0</td>\n",
       "      <td>0.0</td>\n",
       "      <td>0.0</td>\n",
       "      <td>0.0</td>\n",
       "      <td>...</td>\n",
       "      <td>0.0</td>\n",
       "      <td>0.0</td>\n",
       "      <td>0.0</td>\n",
       "      <td>0.0</td>\n",
       "      <td>0.0</td>\n",
       "      <td>0.0</td>\n",
       "      <td>0.0</td>\n",
       "      <td>0.0</td>\n",
       "      <td>0.0</td>\n",
       "      <td>Positive</td>\n",
       "    </tr>\n",
       "    <tr>\n",
       "      <th>3</th>\n",
       "      <td>0.0</td>\n",
       "      <td>0.0</td>\n",
       "      <td>0.0</td>\n",
       "      <td>0.0</td>\n",
       "      <td>0.0</td>\n",
       "      <td>0.0</td>\n",
       "      <td>0.0</td>\n",
       "      <td>0.0</td>\n",
       "      <td>0.0</td>\n",
       "      <td>0.0</td>\n",
       "      <td>...</td>\n",
       "      <td>0.0</td>\n",
       "      <td>0.0</td>\n",
       "      <td>0.0</td>\n",
       "      <td>0.0</td>\n",
       "      <td>0.0</td>\n",
       "      <td>0.0</td>\n",
       "      <td>0.0</td>\n",
       "      <td>0.0</td>\n",
       "      <td>0.0</td>\n",
       "      <td>Positive</td>\n",
       "    </tr>\n",
       "    <tr>\n",
       "      <th>4</th>\n",
       "      <td>0.0</td>\n",
       "      <td>0.0</td>\n",
       "      <td>0.0</td>\n",
       "      <td>0.0</td>\n",
       "      <td>0.0</td>\n",
       "      <td>0.0</td>\n",
       "      <td>0.0</td>\n",
       "      <td>0.0</td>\n",
       "      <td>0.0</td>\n",
       "      <td>0.0</td>\n",
       "      <td>...</td>\n",
       "      <td>0.0</td>\n",
       "      <td>0.0</td>\n",
       "      <td>0.0</td>\n",
       "      <td>0.0</td>\n",
       "      <td>0.0</td>\n",
       "      <td>0.0</td>\n",
       "      <td>0.0</td>\n",
       "      <td>0.0</td>\n",
       "      <td>0.0</td>\n",
       "      <td>Negative</td>\n",
       "    </tr>\n",
       "    <tr>\n",
       "      <th>...</th>\n",
       "      <td>...</td>\n",
       "      <td>...</td>\n",
       "      <td>...</td>\n",
       "      <td>...</td>\n",
       "      <td>...</td>\n",
       "      <td>...</td>\n",
       "      <td>...</td>\n",
       "      <td>...</td>\n",
       "      <td>...</td>\n",
       "      <td>...</td>\n",
       "      <td>...</td>\n",
       "      <td>...</td>\n",
       "      <td>...</td>\n",
       "      <td>...</td>\n",
       "      <td>...</td>\n",
       "      <td>...</td>\n",
       "      <td>...</td>\n",
       "      <td>...</td>\n",
       "      <td>...</td>\n",
       "      <td>...</td>\n",
       "      <td>...</td>\n",
       "    </tr>\n",
       "    <tr>\n",
       "      <th>1995</th>\n",
       "      <td>0.0</td>\n",
       "      <td>0.0</td>\n",
       "      <td>0.0</td>\n",
       "      <td>0.0</td>\n",
       "      <td>0.0</td>\n",
       "      <td>0.0</td>\n",
       "      <td>0.0</td>\n",
       "      <td>0.0</td>\n",
       "      <td>0.0</td>\n",
       "      <td>0.0</td>\n",
       "      <td>...</td>\n",
       "      <td>0.0</td>\n",
       "      <td>0.0</td>\n",
       "      <td>0.0</td>\n",
       "      <td>0.0</td>\n",
       "      <td>0.0</td>\n",
       "      <td>0.0</td>\n",
       "      <td>0.0</td>\n",
       "      <td>0.0</td>\n",
       "      <td>0.0</td>\n",
       "      <td>Negative</td>\n",
       "    </tr>\n",
       "    <tr>\n",
       "      <th>1996</th>\n",
       "      <td>0.0</td>\n",
       "      <td>0.0</td>\n",
       "      <td>0.0</td>\n",
       "      <td>0.0</td>\n",
       "      <td>0.0</td>\n",
       "      <td>0.0</td>\n",
       "      <td>0.0</td>\n",
       "      <td>0.0</td>\n",
       "      <td>0.0</td>\n",
       "      <td>0.0</td>\n",
       "      <td>...</td>\n",
       "      <td>0.0</td>\n",
       "      <td>0.0</td>\n",
       "      <td>0.0</td>\n",
       "      <td>0.0</td>\n",
       "      <td>0.0</td>\n",
       "      <td>0.0</td>\n",
       "      <td>0.0</td>\n",
       "      <td>0.0</td>\n",
       "      <td>0.0</td>\n",
       "      <td>Positive</td>\n",
       "    </tr>\n",
       "    <tr>\n",
       "      <th>1997</th>\n",
       "      <td>0.0</td>\n",
       "      <td>0.0</td>\n",
       "      <td>0.0</td>\n",
       "      <td>0.0</td>\n",
       "      <td>0.0</td>\n",
       "      <td>0.0</td>\n",
       "      <td>0.0</td>\n",
       "      <td>0.0</td>\n",
       "      <td>0.0</td>\n",
       "      <td>0.0</td>\n",
       "      <td>...</td>\n",
       "      <td>0.0</td>\n",
       "      <td>0.0</td>\n",
       "      <td>0.0</td>\n",
       "      <td>0.0</td>\n",
       "      <td>0.0</td>\n",
       "      <td>0.0</td>\n",
       "      <td>0.0</td>\n",
       "      <td>0.0</td>\n",
       "      <td>0.0</td>\n",
       "      <td>Positive</td>\n",
       "    </tr>\n",
       "    <tr>\n",
       "      <th>1998</th>\n",
       "      <td>0.0</td>\n",
       "      <td>0.0</td>\n",
       "      <td>0.0</td>\n",
       "      <td>0.0</td>\n",
       "      <td>0.0</td>\n",
       "      <td>0.0</td>\n",
       "      <td>0.0</td>\n",
       "      <td>0.0</td>\n",
       "      <td>0.0</td>\n",
       "      <td>0.0</td>\n",
       "      <td>...</td>\n",
       "      <td>0.0</td>\n",
       "      <td>0.0</td>\n",
       "      <td>0.0</td>\n",
       "      <td>0.0</td>\n",
       "      <td>0.0</td>\n",
       "      <td>0.0</td>\n",
       "      <td>0.0</td>\n",
       "      <td>0.0</td>\n",
       "      <td>0.0</td>\n",
       "      <td>Positive</td>\n",
       "    </tr>\n",
       "    <tr>\n",
       "      <th>1999</th>\n",
       "      <td>0.0</td>\n",
       "      <td>0.0</td>\n",
       "      <td>0.0</td>\n",
       "      <td>0.0</td>\n",
       "      <td>0.0</td>\n",
       "      <td>0.0</td>\n",
       "      <td>0.0</td>\n",
       "      <td>0.0</td>\n",
       "      <td>0.0</td>\n",
       "      <td>0.0</td>\n",
       "      <td>...</td>\n",
       "      <td>0.0</td>\n",
       "      <td>0.0</td>\n",
       "      <td>0.0</td>\n",
       "      <td>0.0</td>\n",
       "      <td>0.0</td>\n",
       "      <td>0.0</td>\n",
       "      <td>0.0</td>\n",
       "      <td>0.0</td>\n",
       "      <td>0.0</td>\n",
       "      <td>Negative</td>\n",
       "    </tr>\n",
       "  </tbody>\n",
       "</table>\n",
       "<p>2000 rows × 7919 columns</p>\n",
       "</div>"
      ],
      "text/plain": [
       "      aaah  aaahhhh  aarp   ab  abandon  abc  abdul  abdullah  abend  aber  \\\n",
       "0      0.0      0.0   0.0  0.0      0.0  0.0    0.0       0.0    0.0   0.0   \n",
       "1      0.0      0.0   0.0  0.0      0.0  0.0    0.0       0.0    0.0   0.0   \n",
       "2      0.0      0.0   0.0  0.0      0.0  0.0    0.0       0.0    0.0   0.0   \n",
       "3      0.0      0.0   0.0  0.0      0.0  0.0    0.0       0.0    0.0   0.0   \n",
       "4      0.0      0.0   0.0  0.0      0.0  0.0    0.0       0.0    0.0   0.0   \n",
       "...    ...      ...   ...  ...      ...  ...    ...       ...    ...   ...   \n",
       "1995   0.0      0.0   0.0  0.0      0.0  0.0    0.0       0.0    0.0   0.0   \n",
       "1996   0.0      0.0   0.0  0.0      0.0  0.0    0.0       0.0    0.0   0.0   \n",
       "1997   0.0      0.0   0.0  0.0      0.0  0.0    0.0       0.0    0.0   0.0   \n",
       "1998   0.0      0.0   0.0  0.0      0.0  0.0    0.0       0.0    0.0   0.0   \n",
       "1999   0.0      0.0   0.0  0.0      0.0  0.0    0.0       0.0    0.0   0.0   \n",
       "\n",
       "      ...  élevé  étaient  était  être  über  übersichtlich  überzeugt  \\\n",
       "0     ...    0.0      0.0    0.0   0.0   0.0            0.0        0.0   \n",
       "1     ...    0.0      0.0    0.0   0.0   0.0            0.0        0.0   \n",
       "2     ...    0.0      0.0    0.0   0.0   0.0            0.0        0.0   \n",
       "3     ...    0.0      0.0    0.0   0.0   0.0            0.0        0.0   \n",
       "4     ...    0.0      0.0    0.0   0.0   0.0            0.0        0.0   \n",
       "...   ...    ...      ...    ...   ...   ...            ...        ...   \n",
       "1995  ...    0.0      0.0    0.0   0.0   0.0            0.0        0.0   \n",
       "1996  ...    0.0      0.0    0.0   0.0   0.0            0.0        0.0   \n",
       "1997  ...    0.0      0.0    0.0   0.0   0.0            0.0        0.0   \n",
       "1998  ...    0.0      0.0    0.0   0.0   0.0            0.0        0.0   \n",
       "1999  ...    0.0      0.0    0.0   0.0   0.0            0.0        0.0   \n",
       "\n",
       "      überzogen  übrigen    Rating  \n",
       "0           0.0      0.0  Negative  \n",
       "1           0.0      0.0  Positive  \n",
       "2           0.0      0.0  Positive  \n",
       "3           0.0      0.0  Positive  \n",
       "4           0.0      0.0  Negative  \n",
       "...         ...      ...       ...  \n",
       "1995        0.0      0.0  Negative  \n",
       "1996        0.0      0.0  Positive  \n",
       "1997        0.0      0.0  Positive  \n",
       "1998        0.0      0.0  Positive  \n",
       "1999        0.0      0.0  Negative  \n",
       "\n",
       "[2000 rows x 7919 columns]"
      ]
     },
     "execution_count": 43,
     "metadata": {},
     "output_type": "execute_result"
    }
   ],
   "source": [
    "#Generate a weighted review-term matrix using TfidfVectorizer\n",
    "restaurant_vec = vectorizer.fit_transform(restaurant_df['Review'])\n",
    "restaurant_terms = vectorizer.get_feature_names()\n",
    "\n",
    "#Create a dataframe of the weighted terms\n",
    "restaurant_vec_df = pd.DataFrame(restaurant_vec.todense(), columns=restaurant_terms)\n",
    "\n",
    "#Add another column that lists the ratings\n",
    "restaurant_vec_df['Rating'] = list(restaurant_df['Rating'])\n",
    "restaurant_vec_df"
   ]
  },
  {
   "cell_type": "code",
   "execution_count": 44,
   "metadata": {},
   "outputs": [],
   "source": [
    "restaurant_data_train, restaurant_data_test, restaurant_target_train, restaurant_target_test = train_test_split(restaurant_vec_df.iloc[:,0:-1], restaurant_vec_df.iloc[:,-1], test_size=0.2)"
   ]
  },
  {
   "cell_type": "code",
   "execution_count": 45,
   "metadata": {},
   "outputs": [],
   "source": [
    "restaurant_model = MultinomialNB()\n",
    "restaurant_model.fit(restaurant_data_train, restaurant_target_train)\n",
    "restaurant_predicted = restaurant_model.predict(restaurant_data_test)"
   ]
  },
  {
   "cell_type": "markdown",
   "metadata": {},
   "source": [
    "## 2. (c) Test the predictions of the classification model using an appropriate evaluation strategy. Report and discuss the evaluation results in your notebook."
   ]
  },
  {
   "cell_type": "code",
   "execution_count": 50,
   "metadata": {},
   "outputs": [
    {
     "name": "stdout",
     "output_type": "stream",
     "text": [
      "Mean cross-validation accuracy of the Naive Bayes model: 0.74\n",
      "Accuracy of the Naive Bayes model with Cafe data: 0.74 (+/- 0.02)\n"
     ]
    }
   ],
   "source": [
    "cafe_model_crossval_score =  cross_val_score(cafe_model, cafe_data_train, cafe_target_train, cv=10, scoring='accuracy')\n",
    "print(\"Accuracy of the Naive Bayes model with Cafe data: %0.2f (+/- %0.2f)\" % (cafe_model_crossval_score.mean(), cafe_model_crossval_score.std() * 2))"
   ]
  },
  {
   "cell_type": "code",
   "execution_count": 53,
   "metadata": {},
   "outputs": [
    {
     "name": "stdout",
     "output_type": "stream",
     "text": [
      "Accuracy of the Naive Bayes model with Salon data: 0.78 (+/- 0.01)\n"
     ]
    }
   ],
   "source": [
    "salon_model_crossval_score =  cross_val_score(salon_model, salon_data_train, salon_target_train, cv=10, scoring='accuracy')\n",
    "print(\"Accuracy of the Naive Bayes model with Salon data: %0.2f (+/- %0.2f)\" % (salon_model_crossval_score.mean(), salon_model_crossval_score.std() * 2))"
   ]
  },
  {
   "cell_type": "code",
   "execution_count": 54,
   "metadata": {},
   "outputs": [
    {
     "name": "stdout",
     "output_type": "stream",
     "text": [
      "Accuracy of the Naive Bayes model with Restaurant data: 0.81 (+/- 0.04)\n"
     ]
    }
   ],
   "source": [
    "restaurant_model_crossval_score =  cross_val_score(restaurant_model, restaurant_data_train, restaurant_target_train, cv=10, scoring='accuracy')\n",
    "print(\"Accuracy of the Naive Bayes model with Restaurant data: %0.2f (+/- %0.2f)\" % (restaurant_model_crossval_score.mean(), restaurant_model_crossval_score.std() * 2))"
   ]
  },
  {
   "cell_type": "markdown",
   "metadata": {},
   "source": [
    "The model was fit to each dataframe 10 times, with the data split differently each time. The mean value for the accuracy and the 95% confidence level of each dataframe were calculated. This model is most accurate with the Restaurant data (81% +/- 4%), least accurate with the Cafe data (74% +/- 2%), with the Salon data in between (78% +/- 1%)."
   ]
  },
  {
   "cell_type": "markdown",
   "metadata": {},
   "source": [
    "## 3. Evaluate the performance of each of your three classification models when applied to data from the other two selected categories:"
   ]
  },
  {
   "cell_type": "markdown",
   "metadata": {},
   "source": [
    "First train the classifcation model on the Cafe data, and evaluate its performance on the Salon and Restaurant data:"
   ]
  },
  {
   "cell_type": "code",
   "execution_count": 58,
   "metadata": {},
   "outputs": [
    {
     "name": "stdout",
     "output_type": "stream",
     "text": [
      "Accuracy of NB model trained on cafe data and tested on salon data: 0.78\n",
      "Accuracy of NB model trained on cafe data and tested on restaurant data: 0.81\n"
     ]
    }
   ],
   "source": [
    "c_trained_on_s =  cross_val_score(cafe_model, salon_data_train, salon_target_train, cv=10, scoring='accuracy')\n",
    "print('Accuracy of NB model trained on cafe data and tested on salon data: %.2f' % c_trained_on_s.mean())\n",
    "\n",
    "c_trained_on_r =  cross_val_score(cafe_model, restaurant_data_train, restaurant_target_train, cv=10, scoring='accuracy')\n",
    "print('Accuracy of NB model trained on cafe data and tested on restaurant data: %.2f' % c_trained_on_r.mean())"
   ]
  },
  {
   "cell_type": "markdown",
   "metadata": {},
   "source": [
    "Next train the classifcation model on the Salon data, and evaluate its performance on the Cafe and Restaurant data:"
   ]
  },
  {
   "cell_type": "code",
   "execution_count": 59,
   "metadata": {},
   "outputs": [
    {
     "name": "stdout",
     "output_type": "stream",
     "text": [
      "Accuracy of NB model trained on salon data and tested on cafe data: 0.74\n",
      "Accuracy of NB model trained on salon data and tested on restaurant data: 0.81\n"
     ]
    }
   ],
   "source": [
    "s_trained_on_c =  cross_val_score(salon_model, cafe_data_train, cafe_target_train, cv=10, scoring='accuracy')\n",
    "print('Accuracy of NB model trained on salon data and tested on cafe data: %.2f' % s_trained_on_c.mean())\n",
    "\n",
    "s_trained_on_r =  cross_val_score(salon_model, restaurant_data_train, restaurant_target_train, cv=10, scoring='accuracy')\n",
    "print('Accuracy of NB model trained on salon data and tested on restaurant data: %.2f' % s_trained_on_r.mean())"
   ]
  },
  {
   "cell_type": "markdown",
   "metadata": {},
   "source": [
    "Finally train the classifcation model on the Restaurant data, and evaluate its performance on the Cafe and Salon data:"
   ]
  },
  {
   "cell_type": "code",
   "execution_count": 60,
   "metadata": {},
   "outputs": [
    {
     "name": "stdout",
     "output_type": "stream",
     "text": [
      "Accuracy of NB model trained on restaurant data and tested on cafe data: 0.74\n",
      "Accuracy of NB model trained on resaurant data and tested on salon data: 0.78\n"
     ]
    }
   ],
   "source": [
    "r_trained_on_c =  cross_val_score(restaurant_model, cafe_data_train, cafe_target_train, cv=10, scoring='accuracy')\n",
    "print('Accuracy of NB model trained on restaurant data and tested on cafe data: %.2f' % r_trained_on_c.mean())\n",
    "\n",
    "r_trained_on_s =  cross_val_score(restaurant_model, salon_data_train, salon_target_train, cv=10, scoring='accuracy')\n",
    "print('Accuracy of NB model trained on resaurant data and tested on salon data: %.2f' % r_trained_on_s.mean())"
   ]
  },
  {
   "cell_type": "markdown",
   "metadata": {},
   "source": [
    " "
   ]
  },
  {
   "cell_type": "markdown",
   "metadata": {},
   "source": [
    "The accuracies of the models are slightly different depending on the data the are trained and tested on. This is most likely due to the variations in words that would be used depending on the type of business being reviewed.\n",
    "\n",
    "However, all of the models are quite accurate, with the lowest score being 74%."
   ]
  }
 ],
 "metadata": {
  "kernelspec": {
   "display_name": "Python 3",
   "language": "python",
   "name": "python3"
  },
  "language_info": {
   "codemirror_mode": {
    "name": "ipython",
    "version": 3
   },
   "file_extension": ".py",
   "mimetype": "text/x-python",
   "name": "python",
   "nbconvert_exporter": "python",
   "pygments_lexer": "ipython3",
   "version": "3.8.3"
  }
 },
 "nbformat": 4,
 "nbformat_minor": 4
}
