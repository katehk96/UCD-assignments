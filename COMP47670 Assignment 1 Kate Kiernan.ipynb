{
 "cells": [
  {
   "cell_type": "markdown",
   "metadata": {},
   "source": [
    "# COMP47670 Assignment 1: Data Collection & Preparation\n",
    "### Kate Kiernan (14324876)"
   ]
  },
  {
   "cell_type": "markdown",
   "metadata": {},
   "source": [
    "Step 1: Data identification and collection"
   ]
  },
  {
   "cell_type": "code",
   "execution_count": 1,
   "metadata": {},
   "outputs": [],
   "source": [
    "import urllib.request as request\n",
    "import pandas as pd\n",
    "%matplotlib inline"
   ]
  },
  {
   "cell_type": "code",
   "execution_count": 2,
   "metadata": {},
   "outputs": [
    {
     "data": {
      "text/html": [
       "<div>\n",
       "<style scoped>\n",
       "    .dataframe tbody tr th:only-of-type {\n",
       "        vertical-align: middle;\n",
       "    }\n",
       "\n",
       "    .dataframe tbody tr th {\n",
       "        vertical-align: top;\n",
       "    }\n",
       "\n",
       "    .dataframe thead th {\n",
       "        text-align: right;\n",
       "    }\n",
       "</style>\n",
       "<table border=\"1\" class=\"dataframe\">\n",
       "  <thead>\n",
       "    <tr style=\"text-align: right;\">\n",
       "      <th></th>\n",
       "      <th>pl_hostname</th>\n",
       "      <th>pl_name</th>\n",
       "      <th>pl_discmethod</th>\n",
       "      <th>pl_pnum</th>\n",
       "      <th>pl_orbper</th>\n",
       "      <th>pl_bmassj</th>\n",
       "      <th>pl_radj</th>\n",
       "      <th>ra</th>\n",
       "      <th>dec</th>\n",
       "      <th>st_optmag</th>\n",
       "      <th>st_optband</th>\n",
       "      <th>gaia_gmag</th>\n",
       "      <th>st_teff</th>\n",
       "      <th>st_mass</th>\n",
       "      <th>st_rad</th>\n",
       "    </tr>\n",
       "  </thead>\n",
       "  <tbody>\n",
       "    <tr>\n",
       "      <th>0</th>\n",
       "      <td>Kepler-138</td>\n",
       "      <td>Kepler-138 c</td>\n",
       "      <td>Transit</td>\n",
       "      <td>3</td>\n",
       "      <td>13.781300</td>\n",
       "      <td>0.00620</td>\n",
       "      <td>0.107</td>\n",
       "      <td>290.381547</td>\n",
       "      <td>43.292973</td>\n",
       "      <td>12.925</td>\n",
       "      <td>Kepler-band</td>\n",
       "      <td>12.472</td>\n",
       "      <td>3841.0</td>\n",
       "      <td>0.52</td>\n",
       "      <td>0.44</td>\n",
       "    </tr>\n",
       "    <tr>\n",
       "      <th>1</th>\n",
       "      <td>Kepler-138</td>\n",
       "      <td>Kepler-138 d</td>\n",
       "      <td>Transit</td>\n",
       "      <td>3</td>\n",
       "      <td>23.088100</td>\n",
       "      <td>0.00201</td>\n",
       "      <td>0.108</td>\n",
       "      <td>290.381547</td>\n",
       "      <td>43.292973</td>\n",
       "      <td>12.925</td>\n",
       "      <td>Kepler-band</td>\n",
       "      <td>12.472</td>\n",
       "      <td>3841.0</td>\n",
       "      <td>0.52</td>\n",
       "      <td>0.44</td>\n",
       "    </tr>\n",
       "    <tr>\n",
       "      <th>2</th>\n",
       "      <td>Kepler-139</td>\n",
       "      <td>Kepler-139 b</td>\n",
       "      <td>Transit</td>\n",
       "      <td>2</td>\n",
       "      <td>15.771044</td>\n",
       "      <td>NaN</td>\n",
       "      <td>0.262</td>\n",
       "      <td>282.391957</td>\n",
       "      <td>43.889351</td>\n",
       "      <td>12.701</td>\n",
       "      <td>Kepler-band</td>\n",
       "      <td>12.677</td>\n",
       "      <td>5594.0</td>\n",
       "      <td>NaN</td>\n",
       "      <td>1.30</td>\n",
       "    </tr>\n",
       "    <tr>\n",
       "      <th>3</th>\n",
       "      <td>Kepler-139</td>\n",
       "      <td>Kepler-139 c</td>\n",
       "      <td>Transit</td>\n",
       "      <td>2</td>\n",
       "      <td>157.072878</td>\n",
       "      <td>NaN</td>\n",
       "      <td>0.302</td>\n",
       "      <td>282.391957</td>\n",
       "      <td>43.889351</td>\n",
       "      <td>12.701</td>\n",
       "      <td>Kepler-band</td>\n",
       "      <td>12.677</td>\n",
       "      <td>5594.0</td>\n",
       "      <td>NaN</td>\n",
       "      <td>1.30</td>\n",
       "    </tr>\n",
       "    <tr>\n",
       "      <th>4</th>\n",
       "      <td>Kepler-140</td>\n",
       "      <td>Kepler-140 b</td>\n",
       "      <td>Transit</td>\n",
       "      <td>2</td>\n",
       "      <td>3.254270</td>\n",
       "      <td>NaN</td>\n",
       "      <td>0.144</td>\n",
       "      <td>287.369468</td>\n",
       "      <td>46.768213</td>\n",
       "      <td>12.996</td>\n",
       "      <td>Kepler-band</td>\n",
       "      <td>12.941</td>\n",
       "      <td>6077.0</td>\n",
       "      <td>NaN</td>\n",
       "      <td>1.29</td>\n",
       "    </tr>\n",
       "  </tbody>\n",
       "</table>\n",
       "</div>"
      ],
      "text/plain": [
       "  pl_hostname       pl_name pl_discmethod  pl_pnum   pl_orbper  pl_bmassj  \\\n",
       "0  Kepler-138  Kepler-138 c       Transit        3   13.781300    0.00620   \n",
       "1  Kepler-138  Kepler-138 d       Transit        3   23.088100    0.00201   \n",
       "2  Kepler-139  Kepler-139 b       Transit        2   15.771044        NaN   \n",
       "3  Kepler-139  Kepler-139 c       Transit        2  157.072878        NaN   \n",
       "4  Kepler-140  Kepler-140 b       Transit        2    3.254270        NaN   \n",
       "\n",
       "   pl_radj          ra        dec  st_optmag   st_optband  gaia_gmag  st_teff  \\\n",
       "0    0.107  290.381547  43.292973     12.925  Kepler-band     12.472   3841.0   \n",
       "1    0.108  290.381547  43.292973     12.925  Kepler-band     12.472   3841.0   \n",
       "2    0.262  282.391957  43.889351     12.701  Kepler-band     12.677   5594.0   \n",
       "3    0.302  282.391957  43.889351     12.701  Kepler-band     12.677   5594.0   \n",
       "4    0.144  287.369468  46.768213     12.996  Kepler-band     12.941   6077.0   \n",
       "\n",
       "   st_mass  st_rad  \n",
       "0     0.52    0.44  \n",
       "1     0.52    0.44  \n",
       "2      NaN    1.30  \n",
       "3      NaN    1.30  \n",
       "4      NaN    1.29  "
      ]
     },
     "execution_count": 2,
     "metadata": {},
     "output_type": "execute_result"
    }
   ],
   "source": [
    "#Import CSV file on exoplanets from NASA's list of open API's available at https://api.nasa.gov/\n",
    "url = \"https://exoplanetarchive.ipac.caltech.edu/cgi-bin/nstedAPI/nph-nstedAPI?table=exoplanets&select=pl_hostname,pl_name,pl_discmethod,pl_pnum,pl_orbper,pl_bmassj,pl_radj,ra,dec,st_optmag,st_optband,gaia_gmag,st_teff,st_mass,st_rad\"\n",
    "pd.set_option('max_columns', None) #Set max columns as None to show all features in the table\n",
    "\n",
    "#Use panda's read_csv function to display the dataframe in a readable table\n",
    "exo = pd.read_csv(url)\n",
    "\n",
    "#Save to a CSV file for future analysis\n",
    "exo.to_csv('exoplanets.csv')\n",
    "\n",
    "#Display the first 5 items in the dataframe\n",
    "exo.head()"
   ]
  },
  {
   "cell_type": "markdown",
   "metadata": {},
   "source": [
    "This dataset contains a list of confimed exoplanets that have been reserved, and information about the planets and their host stars."
   ]
  },
  {
   "cell_type": "markdown",
   "metadata": {},
   "source": [
    "Step 2: Clean the data"
   ]
  },
  {
   "cell_type": "code",
   "execution_count": 3,
   "metadata": {},
   "outputs": [
    {
     "data": {
      "text/html": [
       "<div>\n",
       "<style scoped>\n",
       "    .dataframe tbody tr th:only-of-type {\n",
       "        vertical-align: middle;\n",
       "    }\n",
       "\n",
       "    .dataframe tbody tr th {\n",
       "        vertical-align: top;\n",
       "    }\n",
       "\n",
       "    .dataframe thead th {\n",
       "        text-align: right;\n",
       "    }\n",
       "</style>\n",
       "<table border=\"1\" class=\"dataframe\">\n",
       "  <thead>\n",
       "    <tr style=\"text-align: right;\">\n",
       "      <th></th>\n",
       "      <th>Planet Name</th>\n",
       "      <th>Discovery Method</th>\n",
       "      <th>Planets in System</th>\n",
       "      <th>Orbital Period</th>\n",
       "      <th>Planet Mass (Jupiter Mass)</th>\n",
       "      <th>Planet Radius (Jupiter Radius)</th>\n",
       "      <th>R.A. (degrees)</th>\n",
       "      <th>Dec (degrees)</th>\n",
       "      <th>Optical Magnitude</th>\n",
       "      <th>Optical Magnitude Band</th>\n",
       "      <th>Gaia Magnitude</th>\n",
       "      <th>Effective Temperature</th>\n",
       "      <th>Stellar Mass</th>\n",
       "      <th>Stellar Radius</th>\n",
       "    </tr>\n",
       "    <tr>\n",
       "      <th>Host Star</th>\n",
       "      <th></th>\n",
       "      <th></th>\n",
       "      <th></th>\n",
       "      <th></th>\n",
       "      <th></th>\n",
       "      <th></th>\n",
       "      <th></th>\n",
       "      <th></th>\n",
       "      <th></th>\n",
       "      <th></th>\n",
       "      <th></th>\n",
       "      <th></th>\n",
       "      <th></th>\n",
       "      <th></th>\n",
       "    </tr>\n",
       "  </thead>\n",
       "  <tbody>\n",
       "    <tr>\n",
       "      <th>Kepler-138</th>\n",
       "      <td>Kepler-138 c</td>\n",
       "      <td>Transit</td>\n",
       "      <td>3</td>\n",
       "      <td>13.781300</td>\n",
       "      <td>0.00620</td>\n",
       "      <td>0.107</td>\n",
       "      <td>290.381547</td>\n",
       "      <td>43.292973</td>\n",
       "      <td>12.925</td>\n",
       "      <td>Kepler-band</td>\n",
       "      <td>12.472</td>\n",
       "      <td>3841.0</td>\n",
       "      <td>0.52</td>\n",
       "      <td>0.44</td>\n",
       "    </tr>\n",
       "    <tr>\n",
       "      <th>Kepler-138</th>\n",
       "      <td>Kepler-138 d</td>\n",
       "      <td>Transit</td>\n",
       "      <td>3</td>\n",
       "      <td>23.088100</td>\n",
       "      <td>0.00201</td>\n",
       "      <td>0.108</td>\n",
       "      <td>290.381547</td>\n",
       "      <td>43.292973</td>\n",
       "      <td>12.925</td>\n",
       "      <td>Kepler-band</td>\n",
       "      <td>12.472</td>\n",
       "      <td>3841.0</td>\n",
       "      <td>0.52</td>\n",
       "      <td>0.44</td>\n",
       "    </tr>\n",
       "    <tr>\n",
       "      <th>Kepler-139</th>\n",
       "      <td>Kepler-139 b</td>\n",
       "      <td>Transit</td>\n",
       "      <td>2</td>\n",
       "      <td>15.771044</td>\n",
       "      <td>NaN</td>\n",
       "      <td>0.262</td>\n",
       "      <td>282.391957</td>\n",
       "      <td>43.889351</td>\n",
       "      <td>12.701</td>\n",
       "      <td>Kepler-band</td>\n",
       "      <td>12.677</td>\n",
       "      <td>5594.0</td>\n",
       "      <td>NaN</td>\n",
       "      <td>1.30</td>\n",
       "    </tr>\n",
       "    <tr>\n",
       "      <th>Kepler-139</th>\n",
       "      <td>Kepler-139 c</td>\n",
       "      <td>Transit</td>\n",
       "      <td>2</td>\n",
       "      <td>157.072878</td>\n",
       "      <td>NaN</td>\n",
       "      <td>0.302</td>\n",
       "      <td>282.391957</td>\n",
       "      <td>43.889351</td>\n",
       "      <td>12.701</td>\n",
       "      <td>Kepler-band</td>\n",
       "      <td>12.677</td>\n",
       "      <td>5594.0</td>\n",
       "      <td>NaN</td>\n",
       "      <td>1.30</td>\n",
       "    </tr>\n",
       "    <tr>\n",
       "      <th>Kepler-140</th>\n",
       "      <td>Kepler-140 b</td>\n",
       "      <td>Transit</td>\n",
       "      <td>2</td>\n",
       "      <td>3.254270</td>\n",
       "      <td>NaN</td>\n",
       "      <td>0.144</td>\n",
       "      <td>287.369468</td>\n",
       "      <td>46.768213</td>\n",
       "      <td>12.996</td>\n",
       "      <td>Kepler-band</td>\n",
       "      <td>12.941</td>\n",
       "      <td>6077.0</td>\n",
       "      <td>NaN</td>\n",
       "      <td>1.29</td>\n",
       "    </tr>\n",
       "  </tbody>\n",
       "</table>\n",
       "</div>"
      ],
      "text/plain": [
       "             Planet Name Discovery Method  Planets in System  Orbital Period  \\\n",
       "Host Star                                                                      \n",
       "Kepler-138  Kepler-138 c          Transit                  3       13.781300   \n",
       "Kepler-138  Kepler-138 d          Transit                  3       23.088100   \n",
       "Kepler-139  Kepler-139 b          Transit                  2       15.771044   \n",
       "Kepler-139  Kepler-139 c          Transit                  2      157.072878   \n",
       "Kepler-140  Kepler-140 b          Transit                  2        3.254270   \n",
       "\n",
       "            Planet Mass (Jupiter Mass)  Planet Radius (Jupiter Radius)  \\\n",
       "Host Star                                                                \n",
       "Kepler-138                     0.00620                           0.107   \n",
       "Kepler-138                     0.00201                           0.108   \n",
       "Kepler-139                         NaN                           0.262   \n",
       "Kepler-139                         NaN                           0.302   \n",
       "Kepler-140                         NaN                           0.144   \n",
       "\n",
       "            R.A. (degrees)  Dec (degrees)  Optical Magnitude  \\\n",
       "Host Star                                                      \n",
       "Kepler-138      290.381547      43.292973             12.925   \n",
       "Kepler-138      290.381547      43.292973             12.925   \n",
       "Kepler-139      282.391957      43.889351             12.701   \n",
       "Kepler-139      282.391957      43.889351             12.701   \n",
       "Kepler-140      287.369468      46.768213             12.996   \n",
       "\n",
       "           Optical Magnitude Band  Gaia Magnitude  Effective Temperature  \\\n",
       "Host Star                                                                  \n",
       "Kepler-138            Kepler-band          12.472                 3841.0   \n",
       "Kepler-138            Kepler-band          12.472                 3841.0   \n",
       "Kepler-139            Kepler-band          12.677                 5594.0   \n",
       "Kepler-139            Kepler-band          12.677                 5594.0   \n",
       "Kepler-140            Kepler-band          12.941                 6077.0   \n",
       "\n",
       "            Stellar Mass  Stellar Radius  \n",
       "Host Star                                 \n",
       "Kepler-138          0.52            0.44  \n",
       "Kepler-138          0.52            0.44  \n",
       "Kepler-139           NaN            1.30  \n",
       "Kepler-139           NaN            1.30  \n",
       "Kepler-140           NaN            1.29  "
      ]
     },
     "execution_count": 3,
     "metadata": {},
     "output_type": "execute_result"
    }
   ],
   "source": [
    "#Set the name of the planet's host star as the index and rename the index and columns \n",
    "exo=exo.set_index('pl_hostname')\n",
    "exo.index.names = ['Host Star']\n",
    "exo = exo.rename(columns = {'pl_letter':'Planet Letter', 'pl_name':'Planet Name', 'pl_discmethod':'Discovery Method',\n",
    "                            'pl_pnum':'Planets in System', 'pl_orbper':'Orbital Period', 'pl_bmassj':'Planet Mass (Jupiter Mass)',\n",
    "                            'pl_radj':'Planet Radius (Jupiter Radius)', 'pl_dens':'Density (g/cm^3)', 'ra':'R.A. (degrees)',\n",
    "                            'dec':'Dec (degrees)', 'st_optmag':'Optical Magnitude', 'st_optband':'Optical Magnitude Band',\n",
    "                            'gaia_gmag':'Gaia Magnitude', 'st_teff':'Effective Temperature', 'st_mass':'Stellar Mass',\n",
    "                            'st_rad':'Stellar Radius'})\n",
    "\n",
    "exo.head()"
   ]
  },
  {
   "cell_type": "code",
   "execution_count": 4,
   "metadata": {},
   "outputs": [
    {
     "data": {
      "text/plain": [
       "Planet Name                          0\n",
       "Discovery Method                     0\n",
       "Planets in System                    0\n",
       "Orbital Period                     143\n",
       "Planet Mass (Jupiter Mass)        2515\n",
       "Planet Radius (Jupiter Radius)    1006\n",
       "R.A. (degrees)                       0\n",
       "Dec (degrees)                        0\n",
       "Optical Magnitude                  228\n",
       "Optical Magnitude Band             228\n",
       "Gaia Magnitude                     177\n",
       "Effective Temperature              282\n",
       "Stellar Mass                       810\n",
       "Stellar Radius                     402\n",
       "dtype: int64"
      ]
     },
     "execution_count": 4,
     "metadata": {},
     "output_type": "execute_result"
    }
   ],
   "source": [
    "#Check for empty values in the columns\n",
    "exo.isnull().sum()"
   ]
  },
  {
   "cell_type": "code",
   "execution_count": 5,
   "metadata": {},
   "outputs": [],
   "source": [
    "#Save a copy of the dataframe before cleaning\n",
    "exo_dirty = exo.copy(deep=True)"
   ]
  },
  {
   "cell_type": "code",
   "execution_count": 6,
   "metadata": {},
   "outputs": [
    {
     "data": {
      "text/plain": [
       "Planet Name                          0\n",
       "Discovery Method                     0\n",
       "Planets in System                    0\n",
       "Orbital Period                       0\n",
       "Planet Mass (Jupiter Mass)        2515\n",
       "Planet Radius (Jupiter Radius)    1006\n",
       "R.A. (degrees)                       0\n",
       "Dec (degrees)                        0\n",
       "Optical Magnitude                    0\n",
       "Optical Magnitude Band               0\n",
       "Gaia Magnitude                       0\n",
       "Effective Temperature                0\n",
       "Stellar Mass                         0\n",
       "Stellar Radius                       0\n",
       "dtype: int64"
      ]
     },
     "execution_count": 6,
     "metadata": {},
     "output_type": "execute_result"
    }
   ],
   "source": [
    "#For columns with smalll numbers of unknown values, estimate the values using the mean\n",
    "mean_per = exo['Orbital Period'].mean()\n",
    "exo['Orbital Period'] = exo['Orbital Period'].fillna(mean_per)\n",
    "\n",
    "mean_opt = exo['Optical Magnitude'].mean()\n",
    "exo['Optical Magnitude'] = exo['Optical Magnitude'].fillna(mean_opt)\n",
    "\n",
    "unknown_magBand = 'Unknown'\n",
    "exo['Optical Magnitude Band'] = exo['Optical Magnitude Band'].fillna(unknown_magBand)\n",
    "\n",
    "mean_gaia = exo['Gaia Magnitude'].mean()\n",
    "exo['Gaia Magnitude'] = exo['Gaia Magnitude'].fillna(mean_gaia)\n",
    "\n",
    "mean_temp = exo['Effective Temperature'].mean()\n",
    "exo['Effective Temperature'] = exo['Effective Temperature'].fillna(mean_temp)\n",
    "\n",
    "mean_stMass = exo['Stellar Mass'].mean()\n",
    "exo['Stellar Mass'] = exo['Stellar Mass'].fillna(mean_stMass)\n",
    "\n",
    "mean_stRad = exo['Stellar Radius'].mean()\n",
    "exo['Stellar Radius'] = exo['Stellar Radius'].fillna(mean_stRad)\n",
    "\n",
    "exo.isnull().sum()"
   ]
  },
  {
   "cell_type": "markdown",
   "metadata": {},
   "source": [
    "There are too many missing values for the planet mass and radius to replace with the mean values. Dropping the rows with missing values in these columns would result in losing a lot of valuable information.\n",
    "\n",
    "Instead, make a subset of the data including only items where the planet's mass and radius are known to use when analysing\n",
    "this information."
   ]
  },
  {
   "cell_type": "code",
   "execution_count": 7,
   "metadata": {},
   "outputs": [
    {
     "data": {
      "text/html": [
       "<div>\n",
       "<style scoped>\n",
       "    .dataframe tbody tr th:only-of-type {\n",
       "        vertical-align: middle;\n",
       "    }\n",
       "\n",
       "    .dataframe tbody tr th {\n",
       "        vertical-align: top;\n",
       "    }\n",
       "\n",
       "    .dataframe thead th {\n",
       "        text-align: right;\n",
       "    }\n",
       "</style>\n",
       "<table border=\"1\" class=\"dataframe\">\n",
       "  <thead>\n",
       "    <tr style=\"text-align: right;\">\n",
       "      <th></th>\n",
       "      <th>Planet Name</th>\n",
       "      <th>Discovery Method</th>\n",
       "      <th>Planets in System</th>\n",
       "      <th>Orbital Period</th>\n",
       "      <th>Planet Mass (Jupiter Mass)</th>\n",
       "      <th>Planet Radius (Jupiter Radius)</th>\n",
       "      <th>R.A. (degrees)</th>\n",
       "      <th>Dec (degrees)</th>\n",
       "      <th>Optical Magnitude</th>\n",
       "      <th>Optical Magnitude Band</th>\n",
       "      <th>Gaia Magnitude</th>\n",
       "      <th>Effective Temperature</th>\n",
       "      <th>Stellar Mass</th>\n",
       "      <th>Stellar Radius</th>\n",
       "    </tr>\n",
       "    <tr>\n",
       "      <th>Host Star</th>\n",
       "      <th></th>\n",
       "      <th></th>\n",
       "      <th></th>\n",
       "      <th></th>\n",
       "      <th></th>\n",
       "      <th></th>\n",
       "      <th></th>\n",
       "      <th></th>\n",
       "      <th></th>\n",
       "      <th></th>\n",
       "      <th></th>\n",
       "      <th></th>\n",
       "      <th></th>\n",
       "      <th></th>\n",
       "    </tr>\n",
       "  </thead>\n",
       "  <tbody>\n",
       "    <tr>\n",
       "      <th>Kepler-138</th>\n",
       "      <td>Kepler-138 c</td>\n",
       "      <td>Transit</td>\n",
       "      <td>3</td>\n",
       "      <td>13.781300</td>\n",
       "      <td>0.00620</td>\n",
       "      <td>0.107</td>\n",
       "      <td>290.381547</td>\n",
       "      <td>43.292973</td>\n",
       "      <td>12.925000</td>\n",
       "      <td>Kepler-band</td>\n",
       "      <td>12.472</td>\n",
       "      <td>3841.0</td>\n",
       "      <td>0.52</td>\n",
       "      <td>0.44</td>\n",
       "    </tr>\n",
       "    <tr>\n",
       "      <th>Kepler-138</th>\n",
       "      <td>Kepler-138 d</td>\n",
       "      <td>Transit</td>\n",
       "      <td>3</td>\n",
       "      <td>23.088100</td>\n",
       "      <td>0.00201</td>\n",
       "      <td>0.108</td>\n",
       "      <td>290.381547</td>\n",
       "      <td>43.292973</td>\n",
       "      <td>12.925000</td>\n",
       "      <td>Kepler-band</td>\n",
       "      <td>12.472</td>\n",
       "      <td>3841.0</td>\n",
       "      <td>0.52</td>\n",
       "      <td>0.44</td>\n",
       "    </tr>\n",
       "    <tr>\n",
       "      <th>Kepler-145</th>\n",
       "      <td>Kepler-145 b</td>\n",
       "      <td>Transit</td>\n",
       "      <td>2</td>\n",
       "      <td>22.951000</td>\n",
       "      <td>0.11700</td>\n",
       "      <td>0.236</td>\n",
       "      <td>291.387762</td>\n",
       "      <td>44.529106</td>\n",
       "      <td>11.931000</td>\n",
       "      <td>Kepler-band</td>\n",
       "      <td>11.875</td>\n",
       "      <td>6022.0</td>\n",
       "      <td>1.28</td>\n",
       "      <td>1.98</td>\n",
       "    </tr>\n",
       "    <tr>\n",
       "      <th>Kepler-145</th>\n",
       "      <td>Kepler-145 c</td>\n",
       "      <td>Transit</td>\n",
       "      <td>2</td>\n",
       "      <td>42.882000</td>\n",
       "      <td>0.25000</td>\n",
       "      <td>0.385</td>\n",
       "      <td>291.387762</td>\n",
       "      <td>44.529106</td>\n",
       "      <td>11.931000</td>\n",
       "      <td>Kepler-band</td>\n",
       "      <td>11.875</td>\n",
       "      <td>6022.0</td>\n",
       "      <td>1.28</td>\n",
       "      <td>1.98</td>\n",
       "    </tr>\n",
       "    <tr>\n",
       "      <th>HAT-P-38</th>\n",
       "      <td>HAT-P-38 b</td>\n",
       "      <td>Transit</td>\n",
       "      <td>1</td>\n",
       "      <td>4.640382</td>\n",
       "      <td>0.26700</td>\n",
       "      <td>0.825</td>\n",
       "      <td>35.383234</td>\n",
       "      <td>32.246151</td>\n",
       "      <td>12.557000</td>\n",
       "      <td>V (Johnson)</td>\n",
       "      <td>12.302</td>\n",
       "      <td>5330.0</td>\n",
       "      <td>0.89</td>\n",
       "      <td>0.92</td>\n",
       "    </tr>\n",
       "    <tr>\n",
       "      <th>...</th>\n",
       "      <td>...</td>\n",
       "      <td>...</td>\n",
       "      <td>...</td>\n",
       "      <td>...</td>\n",
       "      <td>...</td>\n",
       "      <td>...</td>\n",
       "      <td>...</td>\n",
       "      <td>...</td>\n",
       "      <td>...</td>\n",
       "      <td>...</td>\n",
       "      <td>...</td>\n",
       "      <td>...</td>\n",
       "      <td>...</td>\n",
       "      <td>...</td>\n",
       "    </tr>\n",
       "    <tr>\n",
       "      <th>HD 95338</th>\n",
       "      <td>HD 95338 b</td>\n",
       "      <td>Radial Velocity</td>\n",
       "      <td>1</td>\n",
       "      <td>55.087000</td>\n",
       "      <td>0.13353</td>\n",
       "      <td>0.347</td>\n",
       "      <td>164.859604</td>\n",
       "      <td>-56.623039</td>\n",
       "      <td>8.611000</td>\n",
       "      <td>V (Johnson)</td>\n",
       "      <td>8.382</td>\n",
       "      <td>5212.0</td>\n",
       "      <td>0.83</td>\n",
       "      <td>0.87</td>\n",
       "    </tr>\n",
       "    <tr>\n",
       "      <th>TOI-1899</th>\n",
       "      <td>TOI-1899 b</td>\n",
       "      <td>Transit</td>\n",
       "      <td>1</td>\n",
       "      <td>29.020000</td>\n",
       "      <td>0.66000</td>\n",
       "      <td>1.370</td>\n",
       "      <td>299.426833</td>\n",
       "      <td>40.143347</td>\n",
       "      <td>12.669654</td>\n",
       "      <td>Unknown</td>\n",
       "      <td>13.555</td>\n",
       "      <td>3841.0</td>\n",
       "      <td>0.63</td>\n",
       "      <td>0.61</td>\n",
       "    </tr>\n",
       "    <tr>\n",
       "      <th>HIP 65 A</th>\n",
       "      <td>HIP 65 A b</td>\n",
       "      <td>Transit</td>\n",
       "      <td>1</td>\n",
       "      <td>0.980973</td>\n",
       "      <td>3.21300</td>\n",
       "      <td>2.030</td>\n",
       "      <td>0.185667</td>\n",
       "      <td>-54.830814</td>\n",
       "      <td>11.130000</td>\n",
       "      <td>V (Johnson)</td>\n",
       "      <td>10.590</td>\n",
       "      <td>4590.0</td>\n",
       "      <td>0.78</td>\n",
       "      <td>0.72</td>\n",
       "    </tr>\n",
       "    <tr>\n",
       "      <th>TOI-157</th>\n",
       "      <td>TOI-157 b</td>\n",
       "      <td>Transit</td>\n",
       "      <td>1</td>\n",
       "      <td>2.084544</td>\n",
       "      <td>1.18000</td>\n",
       "      <td>1.286</td>\n",
       "      <td>73.701417</td>\n",
       "      <td>-76.680603</td>\n",
       "      <td>12.730000</td>\n",
       "      <td>V (Johnson)</td>\n",
       "      <td>12.514</td>\n",
       "      <td>5404.0</td>\n",
       "      <td>0.95</td>\n",
       "      <td>1.17</td>\n",
       "    </tr>\n",
       "    <tr>\n",
       "      <th>TOI-169</th>\n",
       "      <td>TOI-169 b</td>\n",
       "      <td>Transit</td>\n",
       "      <td>1</td>\n",
       "      <td>2.255448</td>\n",
       "      <td>0.79100</td>\n",
       "      <td>1.086</td>\n",
       "      <td>16.778667</td>\n",
       "      <td>-75.198942</td>\n",
       "      <td>12.360000</td>\n",
       "      <td>V (Johnson)</td>\n",
       "      <td>12.238</td>\n",
       "      <td>5880.0</td>\n",
       "      <td>1.15</td>\n",
       "      <td>1.29</td>\n",
       "    </tr>\n",
       "  </tbody>\n",
       "</table>\n",
       "<p>796 rows × 14 columns</p>\n",
       "</div>"
      ],
      "text/plain": [
       "             Planet Name Discovery Method  Planets in System  Orbital Period  \\\n",
       "Host Star                                                                      \n",
       "Kepler-138  Kepler-138 c          Transit                  3       13.781300   \n",
       "Kepler-138  Kepler-138 d          Transit                  3       23.088100   \n",
       "Kepler-145  Kepler-145 b          Transit                  2       22.951000   \n",
       "Kepler-145  Kepler-145 c          Transit                  2       42.882000   \n",
       "HAT-P-38      HAT-P-38 b          Transit                  1        4.640382   \n",
       "...                  ...              ...                ...             ...   \n",
       "HD 95338      HD 95338 b  Radial Velocity                  1       55.087000   \n",
       "TOI-1899      TOI-1899 b          Transit                  1       29.020000   \n",
       "HIP 65 A      HIP 65 A b          Transit                  1        0.980973   \n",
       "TOI-157        TOI-157 b          Transit                  1        2.084544   \n",
       "TOI-169        TOI-169 b          Transit                  1        2.255448   \n",
       "\n",
       "            Planet Mass (Jupiter Mass)  Planet Radius (Jupiter Radius)  \\\n",
       "Host Star                                                                \n",
       "Kepler-138                     0.00620                           0.107   \n",
       "Kepler-138                     0.00201                           0.108   \n",
       "Kepler-145                     0.11700                           0.236   \n",
       "Kepler-145                     0.25000                           0.385   \n",
       "HAT-P-38                       0.26700                           0.825   \n",
       "...                                ...                             ...   \n",
       "HD 95338                       0.13353                           0.347   \n",
       "TOI-1899                       0.66000                           1.370   \n",
       "HIP 65 A                       3.21300                           2.030   \n",
       "TOI-157                        1.18000                           1.286   \n",
       "TOI-169                        0.79100                           1.086   \n",
       "\n",
       "            R.A. (degrees)  Dec (degrees)  Optical Magnitude  \\\n",
       "Host Star                                                      \n",
       "Kepler-138      290.381547      43.292973          12.925000   \n",
       "Kepler-138      290.381547      43.292973          12.925000   \n",
       "Kepler-145      291.387762      44.529106          11.931000   \n",
       "Kepler-145      291.387762      44.529106          11.931000   \n",
       "HAT-P-38         35.383234      32.246151          12.557000   \n",
       "...                    ...            ...                ...   \n",
       "HD 95338        164.859604     -56.623039           8.611000   \n",
       "TOI-1899        299.426833      40.143347          12.669654   \n",
       "HIP 65 A          0.185667     -54.830814          11.130000   \n",
       "TOI-157          73.701417     -76.680603          12.730000   \n",
       "TOI-169          16.778667     -75.198942          12.360000   \n",
       "\n",
       "           Optical Magnitude Band  Gaia Magnitude  Effective Temperature  \\\n",
       "Host Star                                                                  \n",
       "Kepler-138            Kepler-band          12.472                 3841.0   \n",
       "Kepler-138            Kepler-band          12.472                 3841.0   \n",
       "Kepler-145            Kepler-band          11.875                 6022.0   \n",
       "Kepler-145            Kepler-band          11.875                 6022.0   \n",
       "HAT-P-38              V (Johnson)          12.302                 5330.0   \n",
       "...                           ...             ...                    ...   \n",
       "HD 95338              V (Johnson)           8.382                 5212.0   \n",
       "TOI-1899                  Unknown          13.555                 3841.0   \n",
       "HIP 65 A              V (Johnson)          10.590                 4590.0   \n",
       "TOI-157               V (Johnson)          12.514                 5404.0   \n",
       "TOI-169               V (Johnson)          12.238                 5880.0   \n",
       "\n",
       "            Stellar Mass  Stellar Radius  \n",
       "Host Star                                 \n",
       "Kepler-138          0.52            0.44  \n",
       "Kepler-138          0.52            0.44  \n",
       "Kepler-145          1.28            1.98  \n",
       "Kepler-145          1.28            1.98  \n",
       "HAT-P-38            0.89            0.92  \n",
       "...                  ...             ...  \n",
       "HD 95338            0.83            0.87  \n",
       "TOI-1899            0.63            0.61  \n",
       "HIP 65 A            0.78            0.72  \n",
       "TOI-157             0.95            1.17  \n",
       "TOI-169             1.15            1.29  \n",
       "\n",
       "[796 rows x 14 columns]"
      ]
     },
     "execution_count": 7,
     "metadata": {},
     "output_type": "execute_result"
    }
   ],
   "source": [
    "#Drop all rows that have missing values in either the Planet Mass or Planet Radius column\n",
    "exo_knownMass = exo.dropna(how='any', subset=['Planet Mass (Jupiter Mass)', 'Planet Radius (Jupiter Radius)'])\n",
    "exo_knownMass"
   ]
  },
  {
   "cell_type": "code",
   "execution_count": 8,
   "metadata": {},
   "outputs": [
    {
     "data": {
      "text/plain": [
       "Planet Name                       0\n",
       "Discovery Method                  0\n",
       "Planets in System                 0\n",
       "Orbital Period                    0\n",
       "Planet Mass (Jupiter Mass)        0\n",
       "Planet Radius (Jupiter Radius)    0\n",
       "R.A. (degrees)                    0\n",
       "Dec (degrees)                     0\n",
       "Optical Magnitude                 0\n",
       "Optical Magnitude Band            0\n",
       "Gaia Magnitude                    0\n",
       "Effective Temperature             0\n",
       "Stellar Mass                      0\n",
       "Stellar Radius                    0\n",
       "dtype: int64"
      ]
     },
     "execution_count": 8,
     "metadata": {},
     "output_type": "execute_result"
    }
   ],
   "source": [
    "#Check for null values again\n",
    "exo_knownMass.isnull().sum()"
   ]
  },
  {
   "cell_type": "markdown",
   "metadata": {},
   "source": [
    "In this subset dataframe, there are no longer any missing values."
   ]
  },
  {
   "cell_type": "markdown",
   "metadata": {},
   "source": [
    "Step 3: Analyse the data"
   ]
  },
  {
   "cell_type": "code",
   "execution_count": 9,
   "metadata": {},
   "outputs": [
    {
     "data": {
      "text/html": [
       "<div>\n",
       "<style scoped>\n",
       "    .dataframe tbody tr th:only-of-type {\n",
       "        vertical-align: middle;\n",
       "    }\n",
       "\n",
       "    .dataframe tbody tr th {\n",
       "        vertical-align: top;\n",
       "    }\n",
       "\n",
       "    .dataframe thead th {\n",
       "        text-align: right;\n",
       "    }\n",
       "</style>\n",
       "<table border=\"1\" class=\"dataframe\">\n",
       "  <thead>\n",
       "    <tr style=\"text-align: right;\">\n",
       "      <th></th>\n",
       "      <th>Planets in System</th>\n",
       "      <th>Orbital Period</th>\n",
       "      <th>Planet Mass (Jupiter Mass)</th>\n",
       "      <th>Planet Radius (Jupiter Radius)</th>\n",
       "      <th>R.A. (degrees)</th>\n",
       "      <th>Dec (degrees)</th>\n",
       "      <th>Optical Magnitude</th>\n",
       "      <th>Gaia Magnitude</th>\n",
       "      <th>Effective Temperature</th>\n",
       "      <th>Stellar Mass</th>\n",
       "      <th>Stellar Radius</th>\n",
       "    </tr>\n",
       "  </thead>\n",
       "  <tbody>\n",
       "    <tr>\n",
       "      <th>count</th>\n",
       "      <td>4301.000000</td>\n",
       "      <td>4.301000e+03</td>\n",
       "      <td>1786.000000</td>\n",
       "      <td>3295.000000</td>\n",
       "      <td>4301.000000</td>\n",
       "      <td>4301.000000</td>\n",
       "      <td>4301.000000</td>\n",
       "      <td>4301.000000</td>\n",
       "      <td>4301.000000</td>\n",
       "      <td>4301.000000</td>\n",
       "      <td>4301.000000</td>\n",
       "    </tr>\n",
       "    <tr>\n",
       "      <th>mean</th>\n",
       "      <td>1.773774</td>\n",
       "      <td>2.071079e+03</td>\n",
       "      <td>2.420005</td>\n",
       "      <td>0.379361</td>\n",
       "      <td>243.213433</td>\n",
       "      <td>22.096254</td>\n",
       "      <td>12.669654</td>\n",
       "      <td>12.556022</td>\n",
       "      <td>5475.514613</td>\n",
       "      <td>0.984532</td>\n",
       "      <td>1.537158</td>\n",
       "    </tr>\n",
       "    <tr>\n",
       "      <th>std</th>\n",
       "      <td>1.151024</td>\n",
       "      <td>1.113477e+05</td>\n",
       "      <td>4.391499</td>\n",
       "      <td>0.426671</td>\n",
       "      <td>87.108183</td>\n",
       "      <td>33.552088</td>\n",
       "      <td>2.872769</td>\n",
       "      <td>2.924108</td>\n",
       "      <td>1685.852515</td>\n",
       "      <td>0.465092</td>\n",
       "      <td>3.676522</td>\n",
       "    </tr>\n",
       "    <tr>\n",
       "      <th>min</th>\n",
       "      <td>1.000000</td>\n",
       "      <td>9.070629e-02</td>\n",
       "      <td>0.000060</td>\n",
       "      <td>0.030000</td>\n",
       "      <td>0.185667</td>\n",
       "      <td>-84.231613</td>\n",
       "      <td>0.850000</td>\n",
       "      <td>2.804000</td>\n",
       "      <td>575.000000</td>\n",
       "      <td>0.010000</td>\n",
       "      <td>0.010000</td>\n",
       "    </tr>\n",
       "    <tr>\n",
       "      <th>25%</th>\n",
       "      <td>1.000000</td>\n",
       "      <td>4.612200e+00</td>\n",
       "      <td>0.068748</td>\n",
       "      <td>0.141000</td>\n",
       "      <td>202.331421</td>\n",
       "      <td>-1.296439</td>\n",
       "      <td>11.570000</td>\n",
       "      <td>11.366000</td>\n",
       "      <td>5060.000000</td>\n",
       "      <td>0.850000</td>\n",
       "      <td>0.810000</td>\n",
       "    </tr>\n",
       "    <tr>\n",
       "      <th>50%</th>\n",
       "      <td>1.000000</td>\n",
       "      <td>1.261191e+01</td>\n",
       "      <td>0.790000</td>\n",
       "      <td>0.210000</td>\n",
       "      <td>287.326624</td>\n",
       "      <td>40.663406</td>\n",
       "      <td>13.438000</td>\n",
       "      <td>13.374000</td>\n",
       "      <td>5527.000000</td>\n",
       "      <td>0.984532</td>\n",
       "      <td>1.020000</td>\n",
       "    </tr>\n",
       "    <tr>\n",
       "      <th>75%</th>\n",
       "      <td>2.000000</td>\n",
       "      <td>5.176000e+01</td>\n",
       "      <td>2.430000</td>\n",
       "      <td>0.323500</td>\n",
       "      <td>293.758347</td>\n",
       "      <td>45.762142</td>\n",
       "      <td>14.827000</td>\n",
       "      <td>14.790000</td>\n",
       "      <td>5899.250000</td>\n",
       "      <td>1.080000</td>\n",
       "      <td>1.410000</td>\n",
       "    </tr>\n",
       "    <tr>\n",
       "      <th>max</th>\n",
       "      <td>8.000000</td>\n",
       "      <td>7.300000e+06</td>\n",
       "      <td>55.590000</td>\n",
       "      <td>6.900000</td>\n",
       "      <td>359.974304</td>\n",
       "      <td>85.736153</td>\n",
       "      <td>20.150000</td>\n",
       "      <td>20.480000</td>\n",
       "      <td>57000.000000</td>\n",
       "      <td>10.940000</td>\n",
       "      <td>83.800000</td>\n",
       "    </tr>\n",
       "  </tbody>\n",
       "</table>\n",
       "</div>"
      ],
      "text/plain": [
       "       Planets in System  Orbital Period  Planet Mass (Jupiter Mass)  \\\n",
       "count        4301.000000    4.301000e+03                 1786.000000   \n",
       "mean            1.773774    2.071079e+03                    2.420005   \n",
       "std             1.151024    1.113477e+05                    4.391499   \n",
       "min             1.000000    9.070629e-02                    0.000060   \n",
       "25%             1.000000    4.612200e+00                    0.068748   \n",
       "50%             1.000000    1.261191e+01                    0.790000   \n",
       "75%             2.000000    5.176000e+01                    2.430000   \n",
       "max             8.000000    7.300000e+06                   55.590000   \n",
       "\n",
       "       Planet Radius (Jupiter Radius)  R.A. (degrees)  Dec (degrees)  \\\n",
       "count                     3295.000000     4301.000000    4301.000000   \n",
       "mean                         0.379361      243.213433      22.096254   \n",
       "std                          0.426671       87.108183      33.552088   \n",
       "min                          0.030000        0.185667     -84.231613   \n",
       "25%                          0.141000      202.331421      -1.296439   \n",
       "50%                          0.210000      287.326624      40.663406   \n",
       "75%                          0.323500      293.758347      45.762142   \n",
       "max                          6.900000      359.974304      85.736153   \n",
       "\n",
       "       Optical Magnitude  Gaia Magnitude  Effective Temperature  Stellar Mass  \\\n",
       "count        4301.000000     4301.000000            4301.000000   4301.000000   \n",
       "mean           12.669654       12.556022            5475.514613      0.984532   \n",
       "std             2.872769        2.924108            1685.852515      0.465092   \n",
       "min             0.850000        2.804000             575.000000      0.010000   \n",
       "25%            11.570000       11.366000            5060.000000      0.850000   \n",
       "50%            13.438000       13.374000            5527.000000      0.984532   \n",
       "75%            14.827000       14.790000            5899.250000      1.080000   \n",
       "max            20.150000       20.480000           57000.000000     10.940000   \n",
       "\n",
       "       Stellar Radius  \n",
       "count     4301.000000  \n",
       "mean         1.537158  \n",
       "std          3.676522  \n",
       "min          0.010000  \n",
       "25%          0.810000  \n",
       "50%          1.020000  \n",
       "75%          1.410000  \n",
       "max         83.800000  "
      ]
     },
     "execution_count": 9,
     "metadata": {},
     "output_type": "execute_result"
    }
   ],
   "source": [
    "#Get a summary of the data\n",
    "exo.describe()"
   ]
  },
  {
   "cell_type": "markdown",
   "metadata": {},
   "source": [
    "Using this summary I can find out many details about the observed exoplanets and their systems, such as:\n",
    "\n",
    "1. The maximum number of observed planets in a system is 8.\n",
    "2. The majority of stars have 2 or fewer observed planets.\n",
    "3. The mean effective temperature of the observed stars is 5475.5 K.\n",
    "4. The most massive star observed has a mass of ~10.94 times the mass of the sun.\n",
    "5. The largest planet observed has a radius of 6.9 times the radius of Jupiter.\n",
    "6. The most massive planet observed has a mass of 55.59 times the mass of Jupiter.\n",
    "7. The hottest host star observed has an effective temperature of 57000 K.\n",
    "8. 75% of the observed stars have a mass and radius of 1.08 stellar masses and 1.41 steller radius or less, respectively."
   ]
  },
  {
   "cell_type": "code",
   "execution_count": 10,
   "metadata": {},
   "outputs": [
    {
     "data": {
      "text/plain": [
       "Planets in System                    1.773774\n",
       "Orbital Period                    2071.079059\n",
       "Planet Mass (Jupiter Mass)           2.420005\n",
       "Planet Radius (Jupiter Radius)       0.379361\n",
       "R.A. (degrees)                     243.213433\n",
       "Dec (degrees)                       22.096254\n",
       "Optical Magnitude                   12.669654\n",
       "Gaia Magnitude                      12.556022\n",
       "Effective Temperature             5475.514613\n",
       "Stellar Mass                         0.984532\n",
       "Stellar Radius                       1.537158\n",
       "dtype: float64"
      ]
     },
     "execution_count": 10,
     "metadata": {},
     "output_type": "execute_result"
    }
   ],
   "source": [
    "#Get the mean of each column\n",
    "exo.mean()"
   ]
  },
  {
   "cell_type": "markdown",
   "metadata": {},
   "source": [
    "From this, the mean of each feature of the dataset can be analysed. It can be seen that the mean number of planets discovered in each system is ~1.77. The mean mass of the planets is 2.42 times the mass of Jupiter and the mean radius is ~0.38 times the radius of Jupiter. This means that many of the planets discovered had much larger masses than Jupiter, but were smaller planets."
   ]
  },
  {
   "cell_type": "code",
   "execution_count": 11,
   "metadata": {},
   "outputs": [
    {
     "data": {
      "text/plain": [
       "Planets in System                      1.151024\n",
       "Orbital Period                    111347.657583\n",
       "Planet Mass (Jupiter Mass)             4.391499\n",
       "Planet Radius (Jupiter Radius)         0.426671\n",
       "R.A. (degrees)                        87.108183\n",
       "Dec (degrees)                         33.552088\n",
       "Optical Magnitude                      2.872769\n",
       "Gaia Magnitude                         2.924108\n",
       "Effective Temperature               1685.852515\n",
       "Stellar Mass                           0.465092\n",
       "Stellar Radius                         3.676522\n",
       "dtype: float64"
      ]
     },
     "execution_count": 11,
     "metadata": {},
     "output_type": "execute_result"
    }
   ],
   "source": [
    "exo.std()"
   ]
  },
  {
   "cell_type": "markdown",
   "metadata": {},
   "source": [
    "By obtaining the standard deviation it can be seen that 68% of host stars have an effective temperature of ~5475.51 +/- 1685.85 K, with a mass of 0.98 +/- 0.47 stellar masses and a radius of 1.54 +/- 3.68 stellar radii."
   ]
  },
  {
   "cell_type": "markdown",
   "metadata": {},
   "source": [
    "Visualisation:"
   ]
  },
  {
   "cell_type": "markdown",
   "metadata": {},
   "source": [
    "First, plot the radii of the exoplanets against their masses:"
   ]
  },
  {
   "cell_type": "code",
   "execution_count": 12,
   "metadata": {},
   "outputs": [
    {
     "data": {
      "text/plain": [
       "Text(0.5, 1.0, 'Exoplanet Radius vs Mass (in Jupiter Radii and Masses)')"
      ]
     },
     "execution_count": 12,
     "metadata": {},
     "output_type": "execute_result"
    },
    {
     "data": {
      "image/png": "[encoded data removed]",
      "text/plain": [
       "<Figure size 576x432 with 1 Axes>"
      ]
     },
     "metadata": {
      "needs_background": "light"
     },
     "output_type": "display_data"
    }
   ],
   "source": [
    "p1 = exo_knownMass.plot(kind='scatter', x='Planet Mass (Jupiter Mass)', y='Planet Radius (Jupiter Radius)', figsize = (8,6))\n",
    "p1.grid(True)\n",
    "p1.set_title('Exoplanet Radius vs Mass (in Jupiter Radii and Masses)')"
   ]
  },
  {
   "cell_type": "markdown",
   "metadata": {},
   "source": [
    "From this plot we can see that the majority of the observed exoplanets have a mass that is between 0 and 5 times the mass of Jupiter, and a radius of 0 - 2 times that of Jupiter."
   ]
  },
  {
   "cell_type": "markdown",
   "metadata": {},
   "source": [
    "Next, plot the measured brightness of the host star as observed through the V (Johnson) or Kepler-band against the measured brightness as observed through the Gaia-band."
   ]
  },
  {
   "cell_type": "code",
   "execution_count": 13,
   "metadata": {},
   "outputs": [
    {
     "data": {
      "text/plain": [
       "<matplotlib.axes._subplots.AxesSubplot at 0x287f112cc40>"
      ]
     },
     "execution_count": 13,
     "metadata": {},
     "output_type": "execute_result"
    },
    {
     "data": {
      "image/png": "[encoded data removed]",
      "text/plain": [
       "<Figure size 576x432 with 1 Axes>"
      ]
     },
     "metadata": {
      "needs_background": "light"
     },
     "output_type": "display_data"
    }
   ],
   "source": [
    "p2 = exo.plot(kind='scatter', x='Gaia Magnitude', y='Optical Magnitude', figsize = (8,6))\n",
    "p2.set_title('Magnitude Observed through Optical-band vs Gaia-band')\n",
    "p2.grid(True)\n",
    "p2"
   ]
  },
  {
   "cell_type": "markdown",
   "metadata": {},
   "source": [
    "The results of this plot are mostly linear, which means that the observed magnitudes for the stars were roughly equal for observations in both bands.\n",
    "\n",
    "However, substituting the mean for missing values has resulted in a lot of outlier values. A better result could be achieved by analysing only the items where values were measured. This can be done using the copy of the unclean data that was made at the beginning. "
   ]
  },
  {
   "cell_type": "code",
   "execution_count": 14,
   "metadata": {},
   "outputs": [],
   "source": [
    "#Drop all missing values for the host star magnitude\n",
    "exo_dirty = exo_dirty.dropna(how='all', subset=['Optical Magnitude', 'Gaia Magnitude'])"
   ]
  },
  {
   "cell_type": "code",
   "execution_count": 15,
   "metadata": {},
   "outputs": [
    {
     "data": {
      "text/plain": [
       "<matplotlib.axes._subplots.AxesSubplot at 0x287f1180610>"
      ]
     },
     "execution_count": 15,
     "metadata": {},
     "output_type": "execute_result"
    },
    {
     "data": {
      "image/png": "[encoded data removed]",
      "text/plain": [
       "<Figure size 576x432 with 1 Axes>"
      ]
     },
     "metadata": {
      "needs_background": "light"
     },
     "output_type": "display_data"
    }
   ],
   "source": [
    "p2_edit = exo_dirty.plot(kind='scatter', x='Gaia Magnitude', y='Optical Magnitude', figsize = (8,6))\n",
    "p2_edit.set_title('Magnitude Observed through Optical-band vs Gaia-band')\n",
    "p2_edit.grid(True)\n",
    "p2_edit"
   ]
  },
  {
   "cell_type": "markdown",
   "metadata": {},
   "source": [
    "Now the results are more accurate. It would appear that the host stars' magnitude observed in the Gaia-band is slightly lower than when observed through the optical bands. This could be analysed more accurately by getting the line of best fit through the data and calculating its slope."
   ]
  },
  {
   "cell_type": "markdown",
   "metadata": {},
   "source": [
    "The third graph will plot the effective temperature of the host star against its radius."
   ]
  },
  {
   "cell_type": "code",
   "execution_count": 16,
   "metadata": {},
   "outputs": [
    {
     "data": {
      "image/png": "[encoded data removed]",
      "text/plain": [
       "<Figure size 576x432 with 1 Axes>"
      ]
     },
     "metadata": {
      "needs_background": "light"
     },
     "output_type": "display_data"
    }
   ],
   "source": [
    "p3 = exo.plot(kind='scatter', x='Stellar Radius', y='Effective Temperature', figsize = (8,6))\n",
    "p3.set_ylabel('Effective Temperature (K)')\n",
    "p3.set_title('Effective Temperature (K) vs Stellar Radius')\n",
    "p3.grid(True)"
   ]
  },
  {
   "cell_type": "markdown",
   "metadata": {},
   "source": [
    "From this graph it can be observed that the effective temperature of the host stars mostly lie between 0 and 10000 Kelvin for stars with radii between 0 and 20 times the radius of the sun. There are a small number of small stars with extremely high temperatures. Larger stars (betweeen ~10-90 stellar radii) have cooler temperatures."
   ]
  },
  {
   "cell_type": "markdown",
   "metadata": {},
   "source": [
    "All of these results could be analysed further by fitting a model to the plot (e.g. a straight line graph) and calculating their slopes. By removing outliers, a more accurate equation describing each plot could be obtained."
   ]
  },
  {
   "cell_type": "code",
   "execution_count": 17,
   "metadata": {},
   "outputs": [
    {
     "data": {
      "image/png": "[encoded data removed]",
      "text/plain": [
       "<Figure size 432x432 with 1 Axes>"
      ]
     },
     "metadata": {},
     "output_type": "display_data"
    }
   ],
   "source": [
    "#Calculate the number of exoplanets observed through each optical band\n",
    "opt_band = exo['Optical Magnitude Band'].value_counts()\n",
    "p4 = opt_band.plot(kind='pie', autopct='%.2f%%', fontsize=12, figsize=(6,6))"
   ]
  },
  {
   "cell_type": "markdown",
   "metadata": {},
   "source": [
    "From this plot it can be observed that over half the stars (55.03%) were observed in the Kepler-band, and only 39.67% were observed in the V (Johnson)-band. The optical band in which the remaning 5.3% were observed was not recorded."
   ]
  },
  {
   "cell_type": "code",
   "execution_count": 18,
   "metadata": {},
   "outputs": [
    {
     "data": {
      "text/plain": [
       "Text(0, 0.5, 'Number of Planets Discovered')"
      ]
     },
     "execution_count": 18,
     "metadata": {},
     "output_type": "execute_result"
    },
    {
     "data": {
      "image/png": "[encoded data removed]",
      "text/plain": [
       "<Figure size 720x360 with 1 Axes>"
      ]
     },
     "metadata": {
      "needs_background": "light"
     },
     "output_type": "display_data"
    }
   ],
   "source": [
    "#Calculate the number of planets discovered using each method\n",
    "method = exo['Discovery Method'].value_counts()\n",
    "p5 = method.plot(kind='bar', fontsize=12, figsize=(10,5))\n",
    "p5.set_title('Exoplanet Discovery Methods')\n",
    "p5.set_xlabel('Method')\n",
    "p5.set_ylabel('Number of Planets Discovered')"
   ]
  },
  {
   "cell_type": "markdown",
   "metadata": {},
   "source": [
    "From this bar chart it can be noted that the majority of exoplanets were discovered using the transit method. Less than 1000 were discovered by radial velocity, and very few were discovered by other methods."
   ]
  },
  {
   "cell_type": "code",
   "execution_count": 20,
   "metadata": {},
   "outputs": [
    {
     "data": {
      "text/plain": [
       "Text(0, 0.5, 'Number of Systems')"
      ]
     },
     "execution_count": 20,
     "metadata": {},
     "output_type": "execute_result"
    },
    {
     "data": {
      "image/png": "[encoded data removed]",
      "text/plain": [
       "<Figure size 720x360 with 1 Axes>"
      ]
     },
     "metadata": {
      "needs_background": "light"
     },
     "output_type": "display_data"
    }
   ],
   "source": [
    "#Group the planets by their host stars\n",
    "planets = exo.groupby('Host Star')\n",
    "\n",
    "#Get the mean number of planets for each star because the number will be counted for each\n",
    "mean_np=planets.mean()\n",
    "\n",
    "#Plot the number of planets orbiting each star\n",
    "num_planets = mean_np['Planets in System'].value_counts()\n",
    "num_planets\n",
    "\n",
    "p6 = num_planets.plot(kind='bar', fontsize=12, figsize=(10,5))\n",
    "p6.set_title('Number of Planets in Planetary Systems')\n",
    "p6.set_xlabel('Number of Planets')\n",
    "p6.set_ylabel('Number of Systems')"
   ]
  },
  {
   "cell_type": "markdown",
   "metadata": {},
   "source": [
    "From this chart it can be seen that there are almost 2500 stars with a single planet observed in their orbit, ~500 systems with two observed planets, and few stars with three or more planets."
   ]
  }
 ],
 "metadata": {
  "kernelspec": {
   "display_name": "Python 3",
   "language": "python",
   "name": "python3"
  },
  "language_info": {
   "codemirror_mode": {
    "name": "ipython",
    "version": 3
   },
   "file_extension": ".py",
   "mimetype": "text/x-python",
   "name": "python",
   "nbconvert_exporter": "python",
   "pygments_lexer": "ipython3",
   "version": "3.8.3"
  }
 },
 "nbformat": 4,
 "nbformat_minor": 4
}
